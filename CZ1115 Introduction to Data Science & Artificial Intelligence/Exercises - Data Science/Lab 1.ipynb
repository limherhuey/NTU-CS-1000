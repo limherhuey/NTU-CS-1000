{
 "cells": [
  {
   "cell_type": "code",
   "execution_count": null,
   "metadata": {},
   "outputs": [],
   "source": [
    "# Basic Libraries\n",
    "import numpy as np\n",
    "import pandas as pd\n",
    "import seaborn as sb\n",
    "import matplotlib.pyplot as plt\n",
    "sb.set()"
   ]
  },
  {
   "cell_type": "markdown",
   "metadata": {},
   "source": [
    "## Problem 1 - House Prices\n",
    "\n",
    "Dataset from Kaggle Competition : **\"House Prices - Advanced Regression Techniques\"**\n",
    "Source: https://www.kaggle.com/c/house-prices-advanced-regression-techniques (requires login) compiled by Dean De Cock"
   ]
  },
  {
   "cell_type": "markdown",
   "metadata": {},
   "source": [
    "### a) import tran.csv data"
   ]
  },
  {
   "cell_type": "code",
   "execution_count": null,
   "metadata": {},
   "outputs": [],
   "source": [
    "hprices = pd.read_csv('train.csv')\n",
    "hprices.sample(5)"
   ]
  },
  {
   "cell_type": "markdown",
   "metadata": {},
   "source": [
    "#### Data fields\n",
    "Here's a brief version of what you'll find in the data description file.\n",
    "\n",
    "> SalePrice - the property's sale price in dollars. This is the target variable that you're trying to predict.\n",
    "\n",
    "> MSSubClass: The building class\n",
    "\n",
    ">MSZoning: The general zoning classification\n",
    "\n",
    ">LotFrontage: Linear feet of street connected to property\n",
    "\n",
    ">LotArea: Lot size in square feet\n",
    "\n",
    ">Street: Type of road access\n",
    "\n",
    ">Alley: Type of alley access\n",
    "\n",
    ">LotShape: General shape of property\n",
    "\n",
    ">LandContour: Flatness of the property\n",
    "\n",
    ">Utilities: Type of utilities available\n",
    "\n",
    ">LotConfig: Lot configuration\n",
    "\n",
    ">LandSlope: Slope of property\n",
    "\n",
    ">Neighborhood: Physical locations within Ames city >limits\n",
    "\n",
    ">Condition1: Proximity to main road or railroad\n",
    "\n",
    ">Condition2: Proximity to main road or railroad (if a second is present)\n",
    "\n",
    ">BldgType: Type of dwelling\n",
    "\n",
    ">HouseStyle: Style of dwelling\n",
    "\n",
    ">OverallQual: Overall material and finish quality\n",
    "\n",
    ">OverallCond: Overall condition rating\n",
    "\n",
    ">YearBuilt: Original construction date\n",
    "\n",
    ">YearRemodAdd: Remodel date\n",
    "\n",
    ">RoofStyle: Type of roof\n",
    "\n",
    ">RoofMatl: Roof material\n",
    "\n",
    ">Exterior1st: Exterior covering on house\n",
    "\n",
    ">Exterior2nd: Exterior covering on house (if more than one material)\n",
    "\n",
    ">MasVnrType: Masonry veneer type\n",
    "\n",
    ">MasVnrArea: Masonry veneer area in square feet\n",
    "\n",
    ">ExterQual: Exterior material quality\n",
    "\n",
    ">ExterCond: Present condition of the material on the exterior\n",
    "\n",
    ">Foundation: Type of foundation\n",
    "\n",
    ">BsmtQual: Height of the basement\n",
    "\n",
    ">BsmtCond: General condition of the basement\n",
    "\n",
    ">BsmtExposure: Walkout or garden level basement walls\n",
    "\n",
    ">BsmtFinType1: Quality of basement finished area\n",
    "\n",
    ">BsmtFinSF1: Type 1 finished square feet\n",
    "\n",
    ">BsmtFinType2: Quality of second finished area (if present)\n",
    "\n",
    ">BsmtFinSF2: Type 2 finished square feet\n",
    "\n",
    ">BsmtUnfSF: Unfinished square feet of basement area\n",
    "\n",
    ">TotalBsmtSF: Total square feet of basement area\n",
    "\n",
    ">Heating: Type of heating\n",
    "\n",
    ">HeatingQC: Heating quality and condition\n",
    "\n",
    ">CentralAir: Central air conditioning\n",
    "\n",
    ">Electrical: Electrical system\n",
    "\n",
    ">1stFlrSF: First Floor square feet\n",
    "\n",
    ">2ndFlrSF: Second floor square feet\n",
    "\n",
    ">LowQualFinSF: Low quality finished square feet (all floors)\n",
    "\n",
    ">GrLivArea: Above grade (ground) living area square feet\n",
    "\n",
    ">BsmtFullBath: Basement full bathrooms\n",
    "\n",
    ">BsmtHalfBath: Basement half bathrooms\n",
    "\n",
    ">FullBath: Full bathrooms above grade\n",
    "\n",
    ">HalfBath: Half baths above grade\n",
    "\n",
    ">Bedroom: Number of bedrooms above basement level\n",
    "\n",
    ">Kitchen: Number of kitchens\n",
    "\n",
    ">KitchenQual: Kitchen quality\n",
    "\n",
    ">TotRmsAbvGrd: Total rooms above grade (does not include bathrooms)\n",
    "\n",
    ">Functional: Home functionality rating\n",
    "\n",
    ">Fireplaces: Number of fireplaces\n",
    "\n",
    ">FireplaceQu: Fireplace quality\n",
    "\n",
    ">GarageType: Garage location\n",
    "\n",
    ">GarageYrBlt: Year garage was built\n",
    "\n",
    ">GarageFinish: Interior finish of the garage\n",
    "\n",
    ">GarageCars: Size of garage in car capacity\n",
    "\n",
    ">GarageArea: Size of garage in square feet\n",
    "\n",
    ">GarageQual: Garage quality\n",
    "\n",
    ">GarageCond: Garage condition\n",
    "\n",
    ">PavedDrive: Paved driveway\n",
    "\n",
    ">WoodDeckSF: Wood deck area in square feet\n",
    "\n",
    ">OpenPorchSF: Open porch area in square feet\n",
    "\n",
    ">EnclosedPorch: Enclosed porch area in square feet\n",
    "\n",
    ">3SsnPorch: Three season porch area in square feet\n",
    "\n",
    ">ScreenPorch: Screen porch area in square feet\n",
    "\n",
    ">PoolArea: Pool area in square feet\n",
    "\n",
    ">PoolQC: Pool quality\n",
    "\n",
    ">Fence: Fence quality\n",
    "\n",
    ">MiscFeature: Miscellaneous feature not covered in other categories\n",
    "\n",
    ">MiscVal: money Value of miscellaneous feature\n",
    "\n",
    ">MoSold: Month Sold\n",
    "\n",
    ">YrSold: Year Sold\n",
    "\n",
    ">SaleType: Type of sale\n",
    "\n",
    ">SaleCondition: Condition of sale"
   ]
  },
  {
   "cell_type": "markdown",
   "metadata": {},
   "source": [
    "### b) how many observations (rows) and varables (columns)?"
   ]
  },
  {
   "cell_type": "code",
   "execution_count": null,
   "metadata": {},
   "outputs": [],
   "source": [
    "print(\"Data dimensions : \", hprices.shape)"
   ]
  },
  {
   "cell_type": "markdown",
   "metadata": {},
   "source": [
    "### c) what are the data types of variables?"
   ]
  },
  {
   "cell_type": "code",
   "execution_count": null,
   "metadata": {},
   "outputs": [],
   "source": [
    "pd.set_option('display.max_rows', 81)\n",
    "print(hprices.dtypes)"
   ]
  },
  {
   "cell_type": "markdown",
   "metadata": {},
   "source": [
    "### d) what does the .info() method do?"
   ]
  },
  {
   "cell_type": "code",
   "execution_count": null,
   "metadata": {},
   "outputs": [],
   "source": [
    "hprices.info()"
   ]
  },
  {
   "cell_type": "markdown",
   "metadata": {},
   "source": [
    "### e) What does .describe() do?\n"
   ]
  },
  {
   "cell_type": "code",
   "execution_count": null,
   "metadata": {},
   "outputs": [],
   "source": [
    "hprices.describe()"
   ]
  },
  {
   "cell_type": "markdown",
   "metadata": {},
   "source": [
    "---\n",
    "## Problem 2 - Summer Olympic 2016\n",
    "\n",
    "Data imported from https://en.wikipedia.org/wiki/2016_Summer_Olympics_medal_table"
   ]
  },
  {
   "cell_type": "markdown",
   "metadata": {},
   "source": [
    "### a) import the Wikipedia page"
   ]
  },
  {
   "cell_type": "code",
   "execution_count": null,
   "metadata": {},
   "outputs": [],
   "source": [
    "wiki = pd.read_html('https://en.wikipedia.org/wiki/2016_Summer_Olympics_medal_table')\n",
    "print(\"Data type : \", type(wiki))"
   ]
  },
  {
   "cell_type": "markdown",
   "metadata": {},
   "source": [
    "### b) How many tables are in this Wikipedia page?"
   ]
  },
  {
   "cell_type": "code",
   "execution_count": null,
   "metadata": {},
   "outputs": [],
   "source": [
    "print(len(wiki), \"tables\")"
   ]
  },
  {
   "cell_type": "markdown",
   "metadata": {},
   "source": [
    "### c) Which one is the actual 2016 Summer Olympics medal table?"
   ]
  },
  {
   "cell_type": "code",
   "execution_count": null,
   "metadata": {},
   "outputs": [],
   "source": [
    "wiki[1].head()\n",
    "print(\"second table\")"
   ]
  },
  {
   "cell_type": "markdown",
   "metadata": {},
   "source": [
    "### d) Extract the main table and store it as a new Pandas DataFrame"
   ]
  },
  {
   "cell_type": "code",
   "execution_count": null,
   "metadata": {},
   "outputs": [],
   "source": [
    "medals = wiki[1]\n",
    "medals.head()"
   ]
  },
  {
   "cell_type": "markdown",
   "metadata": {},
   "source": [
    "### e) Extract the TOP 20 countries from the medal table as a new DataFrame\""
   ]
  },
  {
   "cell_type": "code",
   "execution_count": null,
   "metadata": {},
   "outputs": [],
   "source": [
    "top20 = medals.head(20)\n",
    "print(top20)"
   ]
  },
  {
   "cell_type": "markdown",
   "metadata": {},
   "source": [
    "---\n",
    "## Bonus Problem A\n",
    "\n",
    "### \"Census Income\" dataset\n",
    "'adult.data' file downloaded from the UCI Machine Learning Repository (in the “Data Folder”)\n",
    "https://archive.ics.uci.edu/ml/datasets/Census+Income "
   ]
  },
  {
   "cell_type": "code",
   "execution_count": null,
   "metadata": {},
   "outputs": [],
   "source": [
    "income = pd.read_csv('adult.data', header = None)\n",
    "income.head()"
   ]
  },
  {
   "cell_type": "code",
   "execution_count": null,
   "metadata": {},
   "outputs": [],
   "source": [
    "income.shape"
   ]
  },
  {
   "cell_type": "code",
   "execution_count": null,
   "metadata": {},
   "outputs": [],
   "source": [
    "income.info()"
   ]
  },
  {
   "cell_type": "code",
   "execution_count": null,
   "metadata": {},
   "outputs": [],
   "source": [
    "income.describe()"
   ]
  },
  {
   "cell_type": "markdown",
   "metadata": {},
   "source": [
    "---\n",
    "## Bonus Problem B\n",
    "\n",
    "### Summer Olympics\n",
    "\n",
    "Data retrieved from different years of the Summer Olympics, by changing the year in https://en.wikipedia.org/wiki/2016_Summer_Olympics_medal_table"
   ]
  },
  {
   "cell_type": "markdown",
   "metadata": {},
   "source": [
    "#### For example, year 2012 medals:"
   ]
  },
  {
   "cell_type": "code",
   "execution_count": null,
   "metadata": {},
   "outputs": [],
   "source": [
    "olp2012 = pd.read_html('https://en.wikipedia.org/wiki/2012_Summer_Olympics_medal_table')[1]\n",
    "olp2012.head()"
   ]
  },
  {
   "cell_type": "markdown",
   "metadata": {},
   "source": [
    "#### Loop to extract main tables from years 2000 - 2016\n",
    "i.e. 2000, 2004, 2008, 2012, 2016"
   ]
  },
  {
   "cell_type": "code",
   "execution_count": null,
   "metadata": {},
   "outputs": [],
   "source": [
    "olp = list()\n",
    "for i in range(2000, 2017, 4):\n",
    "    olp.append(pd.read_html(f'https://en.wikipedia.org/wiki/{i}_Summer_Olympics_medal_table')[1])"
   ]
  },
  {
   "cell_type": "markdown",
   "metadata": {},
   "source": [
    "#### Extract the TOP 20 countries from each medal table\n",
    "store as new DataFrames"
   ]
  },
  {
   "cell_type": "code",
   "execution_count": null,
   "metadata": {},
   "outputs": [],
   "source": [
    "TOP20 = list()\n",
    "for i in range(5):\n",
    "    TOP20.append(olp[i].head(20))"
   ]
  },
  {
   "cell_type": "code",
   "execution_count": null,
   "metadata": {},
   "outputs": [],
   "source": [
    "for i in range(5):\n",
    "    print(TOP20[i])"
   ]
  },
  {
   "cell_type": "code",
   "execution_count": null,
   "metadata": {},
   "outputs": [],
   "source": []
  }
 ],
 "metadata": {
  "kernelspec": {
   "display_name": "Python 3",
   "language": "python",
   "name": "python3"
  },
  "language_info": {
   "codemirror_mode": {
    "name": "ipython",
    "version": 3
   },
   "file_extension": ".py",
   "mimetype": "text/x-python",
   "name": "python",
   "nbconvert_exporter": "python",
   "pygments_lexer": "ipython3",
   "version": "3.8.5"
  }
 },
 "nbformat": 4,
 "nbformat_minor": 4
}
