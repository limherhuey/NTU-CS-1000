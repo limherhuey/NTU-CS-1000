{
 "cells": [
  {
   "cell_type": "markdown",
   "id": "derived-canberra",
   "metadata": {},
   "source": [
    "# Exercise 7 : MazeRunner\n",
    "\n",
    "---\n",
    "\n",
    "This notebook covers basic search algorithms for **Path-Finding in a Maze**.       \n",
    "\n",
    "You will see *uninformed search* algorithms like `breadth_first_search`, `depth_first_search` and `uniform_cost_search`, as well as *informed search* algorithms like `greedy_search` and `astar_search` in action. The setup is a maze with the problem of finding an escape path from the *start* position to the *goal* position on a two-dimensional grid. You will learn how to map a maze (two-dimensional grid) to a graph, and then apply the search algorithms on the graph to solve the problem. Some of the code is provided, while you will have to fill in some on your own. Give it a shot, and have fun!        \n",
    "\n",
    "**Interactive playground and visualization** for the algorithms are available at this website : https://qiao.github.io/PathFinding.js/visual/\n",
    "\n",
    "### Exercise Problem\n",
    "\n",
    "- **Required** : Fill in the missing pieces of code in this Notebook (tagged *MISSING*), and submit the completed Notebook as your solution.       \n",
    "- **Optional** : Try to attempt the *Experiment and Explore* section at the end of the Notebook, and submit the solutions within this Notebook.       \n",
    "- **Just for Fun!** : Create a maze based on `KalosMap.jpg` (attached), set *start* and *goal* positions, and try out the path-finding algorithms.    \n",
    "\n",
    "---\n",
    "\n",
    "### Essential Libraries\n",
    "\n",
    "Let us begin by importing the essential Python Libraries.\n",
    "\n",
    "> NumPy : Library to work with the 2D maze/grid in Python  \n",
    "> Matplotlib : Primarily for visualization of the 2D maze/grid  \n",
    "> Seaborn : Mainly for easy maze visualization as heatmap      \n",
    "> NetworkX : Mainly to visualize the graph representations        \n",
    "> Queue : Library to work with FIFO, LIFO, Priority queues"
   ]
  },
  {
   "cell_type": "code",
   "execution_count": null,
   "id": "tribal-simple",
   "metadata": {},
   "outputs": [],
   "source": [
    "import numpy as np\n",
    "import matplotlib.pyplot as plt\n",
    "from seaborn import heatmap\n",
    "import networkx as nx\n",
    "import queue"
   ]
  },
  {
   "cell_type": "code",
   "execution_count": null,
   "id": "legal-grill",
   "metadata": {},
   "outputs": [],
   "source": []
  },
  {
   "cell_type": "markdown",
   "id": "listed-petite",
   "metadata": {},
   "source": [
    "### Helper functions for the Maze\n",
    "\n",
    "These are just a few helper functions for you to work with the maze/grid easily, and to visualize them in a nice way. **No need to edit in general.**"
   ]
  },
  {
   "cell_type": "code",
   "execution_count": null,
   "id": "smaller-change",
   "metadata": {},
   "outputs": [],
   "source": [
    "# Helper functions to work with the Maze\n",
    "\n",
    "def printBinaryMaze(mazeGrid):\n",
    "    ''' Display the maze corresponding to a binary grid\n",
    "        Input : 2D NumPy array with 0 and 1 as elements\n",
    "        Output : Simple print of the corresponding maze\n",
    "    '''\n",
    "    (height, width) = mazeGrid.shape\n",
    "    \n",
    "    print()\n",
    "    for i in range(height):\n",
    "        for j in range(width):\n",
    "            if mazeGrid[i,j] == 1:\n",
    "                print(\"\\u25a9\", end = \" \")   # use some other character if the unicode does not print properly\n",
    "            elif mazeGrid[i,j] == 0:\n",
    "                print(\".\", end = \" \")\n",
    "        print()\n",
    "        \n",
    "\n",
    "def showBinaryMaze(mazeGrid):\n",
    "    ''' Display the maze corresponding to a binary grid\n",
    "        Input : 2D NumPy array with 0 and 1 as elements\n",
    "        Output : Heatmap grid of the corresponding maze\n",
    "    '''\n",
    "    (height, width) = mazeGrid.shape\n",
    "    mazeGrid = mazeGrid * 255                # just to match standard pixel values (0 to 255) in grayscale\n",
    "    \n",
    "    f = plt.figure(figsize = (width,height))\n",
    "    heatmap(mazeGrid, vmin = 0, vmax = 255, cmap = \"Greys\", cbar = False)\n",
    "    \n",
    "    \n",
    "def showBinaryMazeProblem(mazeGrid, start, goal):\n",
    "    ''' Display the maze corresponding to a binary grid\n",
    "        Display \"start\" and \"goal\" position on the grid \n",
    "        Input : 2D NumPy array with 0 and 1 as elements\n",
    "        Input : 2D coordinate of the \"start\" and \"goal\"\n",
    "        Output : Heatmap grid of the maze with markers\n",
    "    '''\n",
    "    (height, width) = mazeGrid.shape\n",
    "    mazeGrid = mazeGrid * 255\n",
    "    \n",
    "    mazeGrid[start[0], start[1]] = 128\n",
    "    mazeGrid[goal[0], goal[1]] = 128\n",
    "    \n",
    "    f = plt.figure(figsize = (width,height))\n",
    "    heatmap(mazeGrid, vmin = 0, vmax = 255, cmap = \"Greys\", cbar = False)"
   ]
  },
  {
   "cell_type": "code",
   "execution_count": null,
   "id": "velvet-editor",
   "metadata": {},
   "outputs": [],
   "source": []
  },
  {
   "cell_type": "code",
   "execution_count": null,
   "id": "duplicate-oriental",
   "metadata": {},
   "outputs": [],
   "source": []
  },
  {
   "cell_type": "markdown",
   "id": "present-dover",
   "metadata": {},
   "source": [
    "---\n",
    "## Create the Maze as a 2D Grid\n",
    "\n",
    "Let us create the maze as a standard two-dimensional grid, with reachable (blank) and unreachable (blocked) positions."
   ]
  },
  {
   "cell_type": "code",
   "execution_count": null,
   "id": "later-zealand",
   "metadata": {},
   "outputs": [],
   "source": [
    "# Create the Maze\n",
    "# 0 : empty cell, reachable within a path\n",
    "# 1 : blocked cell or wall, not reachable\n",
    "\n",
    "maze = [[1, 1, 1, 1, 1, 1, 1, 1, 1, 1, 1, 1, 1, 1, 1, 1, 1, 1, 1, 1],\n",
    "        [1, 0, 0, 0, 1, 0, 0, 0, 0, 0, 0, 0, 0, 0, 0, 0, 0, 0, 0, 1],\n",
    "        [1, 0, 1, 0, 1, 0, 0, 0, 0, 1, 0, 1, 0, 1, 1, 1, 1, 1, 0, 1],\n",
    "        [1, 0, 1, 0, 1, 0, 1, 1, 0, 1, 0, 1, 0, 0, 1, 0, 0, 0, 0, 1],\n",
    "        [1, 0, 1, 0, 0, 0, 0, 1, 0, 1, 0, 0, 0, 0, 1, 1, 1, 1, 1, 1],\n",
    "        [1, 0, 1, 1, 1, 1, 0, 1, 0, 1, 0, 1, 1, 0, 1, 0, 0, 0, 0, 0],\n",
    "        [1, 0, 0, 0, 0, 0, 0, 1, 0, 1, 0, 0, 1, 0, 1, 0, 1, 1, 1, 1],\n",
    "        [1, 0, 1, 1, 1, 1, 1, 1, 0, 1, 1, 0, 1, 1, 1, 0, 0, 0, 0, 1],\n",
    "        [1, 0, 0, 0, 0, 0, 0, 0, 0, 0, 1, 0, 0, 0, 0, 0, 0, 0, 0, 1],\n",
    "        [1, 1, 1, 1, 1, 1, 1, 1, 1, 1, 1, 1, 1, 1, 1, 1, 1, 1, 1, 1]]\n",
    "\n",
    "\n",
    "# Convert to a NumPy array\n",
    "maze = np.array(maze)\n",
    "\n",
    "# Print the maze using helper functions\n",
    "print(\"Maze of dimensions\", maze.shape)\n",
    "printBinaryMaze(maze)"
   ]
  },
  {
   "cell_type": "code",
   "execution_count": null,
   "id": "growing-bobby",
   "metadata": {},
   "outputs": [],
   "source": []
  },
  {
   "cell_type": "markdown",
   "id": "extensive-investor",
   "metadata": {},
   "source": [
    "Display the maze as a Seaborn grayscale heatmap to clearly visualize the pattern and identify the underlying coordinates."
   ]
  },
  {
   "cell_type": "code",
   "execution_count": null,
   "id": "coordinate-bristol",
   "metadata": {},
   "outputs": [],
   "source": [
    "# Show the maze using helper functions\n",
    "showBinaryMaze(maze)"
   ]
  },
  {
   "cell_type": "code",
   "execution_count": null,
   "id": "proper-delicious",
   "metadata": {},
   "outputs": [],
   "source": []
  },
  {
   "cell_type": "code",
   "execution_count": null,
   "id": "violent-military",
   "metadata": {},
   "outputs": [],
   "source": []
  },
  {
   "cell_type": "markdown",
   "id": "weird-syracuse",
   "metadata": {},
   "source": [
    "---\n",
    "## Path-finding Problem in the Maze\n",
    "\n",
    "Define the path-finding problem on the maze created above by assigning the *START* and *GOAL* positions as coordinates."
   ]
  },
  {
   "cell_type": "code",
   "execution_count": null,
   "id": "funded-credits",
   "metadata": {},
   "outputs": [],
   "source": [
    "# Define start and goal positions\n",
    "START = (1,1)\n",
    "GOAL = (5,19)\n",
    "\n",
    "# Show the maze using helper functions\n",
    "showBinaryMazeProblem(maze, START, GOAL)"
   ]
  },
  {
   "cell_type": "code",
   "execution_count": null,
   "id": "timely-flood",
   "metadata": {},
   "outputs": [],
   "source": []
  },
  {
   "cell_type": "code",
   "execution_count": null,
   "id": "complex-youth",
   "metadata": {},
   "outputs": [],
   "source": []
  },
  {
   "cell_type": "markdown",
   "id": "vulnerable-america",
   "metadata": {},
   "source": [
    "---\n",
    "## Extract Graph from the Maze\n",
    "\n",
    "In order to solve the path-finding problem, we will first extract the *traversal graph* corresponding to the maze. To start with, let's define `MazeGraph`."
   ]
  },
  {
   "cell_type": "code",
   "execution_count": null,
   "id": "studied-auckland",
   "metadata": {},
   "outputs": [],
   "source": [
    "# Create a Graph class\n",
    "class MazeGraph(object):\n",
    "    ''' Class to represent a Graph\n",
    "        Construction : Using Edges\n",
    "    '''\n",
    "    def __init__(self):\n",
    "        self.edges = {}\n",
    "    \n",
    "    def all_edges(self):\n",
    "        return self.edges\n",
    "    \n",
    "    def neighbors(self, node):\n",
    "        return self.edges[node]    "
   ]
  },
  {
   "cell_type": "code",
   "execution_count": null,
   "id": "racial-party",
   "metadata": {},
   "outputs": [],
   "source": []
  },
  {
   "cell_type": "markdown",
   "id": "helpful-trunk",
   "metadata": {},
   "source": [
    "### Converting a Maze to a Graph\n",
    "\n",
    "- The nodes/vertices in the graph are all the blank positions/cells in the maze     \n",
    "- The blocked positions/cells in the maze are not considered as nodes/vertices\n",
    "- Each node/vertex is connected to its adjacent blank positions/cells in the maze    \n",
    "- Each node/vertex is assumed to have 4 adjacent nodes: Top, Left, Bottom, Right     \n",
    "- Default weight for each such edge in the graph between two adjacent vertices is 1     \n",
    "- We are assuming that diagonal traversal from one cell to another is not permitted    "
   ]
  },
  {
   "cell_type": "code",
   "execution_count": null,
   "id": "sustainable-deputy",
   "metadata": {},
   "outputs": [],
   "source": [
    "# Function to convert a maze to a graph\n",
    "def maze_to_graph(mazeGrid):\n",
    "    ''' Converts a 2D binary maze to corresponding graph\n",
    "        Input : 2D NumPy array with 0 and 1 as elements\n",
    "        Output : MazeGraph corresponding to input maze\n",
    "    '''\n",
    "    mazeGraph = MazeGraph()\n",
    "    (height, width) = mazeGrid.shape\n",
    "    \n",
    "    for i in range(height):\n",
    "        for j in range(width):\n",
    "            \n",
    "            # Only consider blank cells as nodes\n",
    "            if mazeGrid[i,j] == 0:\n",
    "                \n",
    "                neighbors = []\n",
    "                \n",
    "                # Adjacent cell : Top\n",
    "                if (i > 0) and mazeGrid[i-1,j] == 0:\n",
    "                    neighbors.append(((i-1,j), 1))\n",
    "                    \n",
    "                # Adjacent cell : Left                \n",
    "                if (j > 0) and mazeGrid[i,j-1] == 0:\n",
    "                    neighbors.append(((i,j-1), 1))\n",
    "                    \n",
    "                # Adjacent cell : Bottom                    \n",
    "                if (i < height - 1) and mazeGrid[i+1,j] == 0:\n",
    "                    neighbors.append(((i+1,j), 1))\n",
    "\n",
    "                # Adjacent cell : Right                    \n",
    "                if (j < width - 1) and mazeGrid[i,j+1] == 0:\n",
    "                    neighbors.append(((i,j+1), 1))\n",
    "\n",
    "                # Insert edges in the graph\n",
    "                if len(neighbors) > 0:\n",
    "                    mazeGraph.edges[(i,j)] = neighbors\n",
    "\n",
    "    return mazeGraph"
   ]
  },
  {
   "cell_type": "code",
   "execution_count": null,
   "id": "stable-division",
   "metadata": {},
   "outputs": [],
   "source": [
    "# Convert the maze to a graph\n",
    "mazegraph = maze_to_graph(maze)\n",
    "\n",
    "# Print the edges with weights\n",
    "mazegraph.all_edges()"
   ]
  },
  {
   "cell_type": "code",
   "execution_count": null,
   "id": "noticed-broadcast",
   "metadata": {},
   "outputs": [],
   "source": []
  },
  {
   "cell_type": "markdown",
   "id": "psychological-healthcare",
   "metadata": {},
   "source": [
    "### Displaying the Maze Graph\n",
    "\n",
    "**This is optional.** Just a helper function to display the graph using NetworkX. You may examine the graph node-by-node if you wish."
   ]
  },
  {
   "cell_type": "code",
   "execution_count": null,
   "id": "starting-address",
   "metadata": {},
   "outputs": [],
   "source": [
    "# Helper functions to display a Graph\n",
    "\n",
    "def showBinaryMazeGraph(mazeGraph):\n",
    "    ''' Display a graph using networkx\n",
    "        Input : MazeGraph from 2D maze\n",
    "        Output : Input graph displayed\n",
    "    '''\n",
    "    edgeDict = mazeGraph.all_edges()\n",
    "    edgeList = []\n",
    "    for node in edgeDict:\n",
    "        for neighbor, weight in edgeDict[node]:\n",
    "            edgeList.append((node,neighbor, {'weight': weight}))\n",
    "\n",
    "    G = nx.Graph()\n",
    "    G.add_edges_from(edgeList)\n",
    "\n",
    "    f = plt.figure(figsize = (40,40))\n",
    "    pos = nx.spring_layout(G)\n",
    "\n",
    "    nx.draw_networkx_nodes(G, pos, node_size = 2000)\n",
    "    nx.draw_networkx_edges(G, pos, width = 2)\n",
    "    nx.draw_networkx_labels(G, pos, font_size = 10)\n",
    "\n",
    "    plt.axis(\"off\")\n",
    "    plt.show()"
   ]
  },
  {
   "cell_type": "code",
   "execution_count": null,
   "id": "expressed-basement",
   "metadata": {},
   "outputs": [],
   "source": [
    "# Show the graph using helper functions\n",
    "# The layout may change every time you run this cell\n",
    "# However, the graph (nodes, edges) remains the same\n",
    "\n",
    "showBinaryMazeGraph(mazegraph)"
   ]
  },
  {
   "cell_type": "code",
   "execution_count": null,
   "id": "precious-governor",
   "metadata": {},
   "outputs": [],
   "source": []
  },
  {
   "cell_type": "code",
   "execution_count": null,
   "id": "peripheral-weight",
   "metadata": {},
   "outputs": [],
   "source": []
  },
  {
   "cell_type": "markdown",
   "id": "smooth-tyler",
   "metadata": {},
   "source": [
    "---\n",
    "## Path Finding on the Graph\n",
    "\n",
    "Now that we have the *traversal graph* corresponding to the maze, we may try out various path-finding search algorithms on the graph."
   ]
  },
  {
   "cell_type": "code",
   "execution_count": null,
   "id": "fleet-august",
   "metadata": {},
   "outputs": [],
   "source": [
    "# Helper functions to work with the Maze with Path\n",
    "\n",
    "def showBinaryMazePath(mazeGrid, mazePath):\n",
    "    ''' Display the maze corresponding to a binary grid\n",
    "        Display path(s) superimposed on the binary grid \n",
    "        Input : 2D NumPy array with 0 and 1 as elements\n",
    "        Input : 2D coordinates of the paths on the maze\n",
    "        Output : Heatmap grid of the maze with the path\n",
    "    '''\n",
    "    (height, width) = mazeGrid.shape\n",
    "    mazeGrid = mazeGrid * 255                # just to match standard pixel values (0 to 255) in grayscale\n",
    "    \n",
    "    for node in mazePath:\n",
    "        mazeGrid[node[0], node[1]] = 128     # half level of grayscale (0 to 255) to highlight the path\n",
    "    \n",
    "    f = plt.figure(figsize = (width,height))\n",
    "    heatmap(mazeGrid, vmin = 0, vmax = 255, cmap = \"Greys\", cbar = False)"
   ]
  },
  {
   "cell_type": "code",
   "execution_count": null,
   "id": "economic-kuwait",
   "metadata": {},
   "outputs": [],
   "source": []
  },
  {
   "cell_type": "code",
   "execution_count": null,
   "id": "diverse-forestry",
   "metadata": {},
   "outputs": [],
   "source": []
  },
  {
   "cell_type": "markdown",
   "id": "western-trinity",
   "metadata": {},
   "source": [
    "### Breadth-First-Search (BFS)\n",
    "\n",
    "**Uninformed Search** : Focusses on the graph structure and not the *cost from start* or *distance from goal*."
   ]
  },
  {
   "cell_type": "code",
   "execution_count": null,
   "id": "studied-representation",
   "metadata": {},
   "outputs": [],
   "source": [
    "# Breadth-First-Search (BFS) with FIFO Queue\n",
    "\n",
    "def breadth_first_search(mazeGraph, start, goal):\n",
    "    ''' Function to perform BFS to find path in a graph\n",
    "        Input  : Graph with the start and goal vertices\n",
    "        Output : Dict of explored vertices in the graph\n",
    "    '''\n",
    "    frontier = queue.Queue()    # FIFO Queue for Frontier\n",
    "    \n",
    "    # initialization\n",
    "    frontier.put(start)         # Add the start node to frontier\n",
    "    explored = {}               # Dict of explored nodes {node : parentNode}\n",
    "    explored[start] = None      # start node has no parent node\n",
    "    processed = 0               # Count of total nodes processed\n",
    "    \n",
    "    while not frontier.empty():\n",
    "        # get next node from frontier\n",
    "        currentNode = frontier.get()\n",
    "        processed += 1\n",
    "        \n",
    "        # stop when goal is reached\n",
    "        if currentNode == goal:\n",
    "            break\n",
    "        \n",
    "        # explore every single neighbor of current node\n",
    "        for nextNode, weight in mazeGraph.neighbors(currentNode):\n",
    "           \n",
    "            # ignore if it has already been explored\n",
    "            if nextNode not in explored:\n",
    "                \n",
    "                # put new node in frontier\n",
    "                frontier.put(nextNode)\n",
    "                \n",
    "                # assign current node as parent\n",
    "                explored[nextNode] = currentNode\n",
    "    \n",
    "    return explored, processed\n",
    "\n",
    "\n",
    "# Reconstruct the path from the Dict of explored nodes {node : parentNode}\n",
    "# Intuition : Backtrack from the goal node by checking successive parents\n",
    "\n",
    "def reconstruct_path(explored, start, goal):\n",
    "    currentNode = goal             # start at the goal node\n",
    "    path = []                      # initiate the blank path\n",
    "\n",
    "    # stop when backtrack reaches start node\n",
    "    while currentNode != start:\n",
    "        # grow the path backwards and backtrack\n",
    "        path.append(currentNode)\n",
    "        currentNode = explored[currentNode]\n",
    "\n",
    "    path.append(start)             # append start node for completeness\n",
    "    path.reverse()                 # reverse the path from start to goal\n",
    "\n",
    "    return path"
   ]
  },
  {
   "cell_type": "code",
   "execution_count": null,
   "id": "gothic-neutral",
   "metadata": {},
   "outputs": [],
   "source": [
    "# Define start and goal positions\n",
    "START = (1,1)\n",
    "GOAL = (5,19)\n",
    "\n",
    "# Run the BFS algorithm for path finding\n",
    "nodesExplored, nodesProcessed = breadth_first_search(mazegraph, start = START, goal = GOAL)\n",
    "path = reconstruct_path(nodesExplored, start = START, goal = GOAL)\n",
    "\n",
    "# Basic measures for the algorithm\n",
    "print(\"Breadth-First-Search (BFS)\")\n",
    "print()\n",
    "\n",
    "totalNodes = np.count_nonzero(maze == 0)\n",
    "print(\"Total nodes in maze :\", totalNodes)\n",
    "print(\"Total nodes visited :\", nodesProcessed, \" | \", np.round(100*(nodesProcessed/totalNodes),2), \"%\")\n",
    "print(\"Final path distance :\", len(path))\n",
    "print()\n",
    "\n",
    "# Print the path and show using helper functions\n",
    "print(\"Path through the Maze :\", path)\n",
    "showBinaryMazePath(maze,path)"
   ]
  },
  {
   "cell_type": "code",
   "execution_count": null,
   "id": "miniature-interpretation",
   "metadata": {},
   "outputs": [],
   "source": []
  },
  {
   "cell_type": "markdown",
   "id": "unlikely-crack",
   "metadata": {},
   "source": [
    "**Think about it!**\n",
    "\n",
    "Is this algorithm *complete*? Is it *optimal*? What can you do to increase its *efficiency*?"
   ]
  },
  {
   "cell_type": "markdown",
   "id": "aging-relative",
   "metadata": {},
   "source": [
    "> Completeness: complete if finite\n",
    "\n",
    "> Optimality: optimal if path cost is non-decreasing function of node depth\n",
    "\n",
    "> Efficiency: -"
   ]
  },
  {
   "cell_type": "code",
   "execution_count": null,
   "id": "annoying-leisure",
   "metadata": {},
   "outputs": [],
   "source": []
  },
  {
   "cell_type": "markdown",
   "id": "ready-screen",
   "metadata": {},
   "source": [
    "### Depth-First-Search (DFS)\n",
    "\n",
    "**Uninformed Search** : Focusses on the graph structure and not the *cost from start* or *distance from goal*."
   ]
  },
  {
   "cell_type": "code",
   "execution_count": null,
   "id": "attractive-filename",
   "metadata": {},
   "outputs": [],
   "source": [
    "# This cell has MISSING pieces of code -- fill those in!\n",
    "\n",
    "# Depth-First-Search (DFS) with LIFO Queue\n",
    "\n",
    "def depth_first_search(mazeGraph, start, goal):\n",
    "    ''' Function to perform DFS to find path in a graph\n",
    "        Input  : Graph with the start and goal vertices\n",
    "        Output : Dict of explored vertices in the graph\n",
    "    '''\n",
    "    frontier = queue.LifoQueue()      # LIFO Queue for Frontier\n",
    "    \n",
    "    # initialization\n",
    "    frontier.put(start)         # Add the start node to frontier\n",
    "    explored = {}               # Dict of explored nodes {node : parentNode}\n",
    "    explored[start] = None      # start node has no parent node\n",
    "    processed = 0               # Count of total nodes processed\n",
    "    \n",
    "    while not frontier.empty():\n",
    "        # get next node from frontier\n",
    "        currentNode = frontier.get()\n",
    "        processed += 1\n",
    "        \n",
    "        # stop when goal is reached\n",
    "        if currentNode == goal:\n",
    "            break\n",
    "        \n",
    "        # explore every single neighbor of current node\n",
    "        for nextNode, weight in mazeGraph.neighbors(currentNode):\n",
    "            \n",
    "            # ignore if it has already been explored\n",
    "            if nextNode not in explored:\n",
    "                \n",
    "                # put new node in frontier\n",
    "                frontier.put(nextNode)\n",
    "                \n",
    "                # assign current node as parent\n",
    "                explored[nextNode] = currentNode\n",
    "    \n",
    "    return explored, processed\n",
    "\n",
    "\n",
    "# Reconstruct the path from the Dict of explored nodes {node : parentNode}\n",
    "# Intuition : Backtrack from the goal node by checking successive parents\n",
    "\n",
    "def reconstruct_path(explored, start, goal):\n",
    "    currentNode = goal             # start at the goal node\n",
    "    path = []                      # initiate the blank path\n",
    "\n",
    "    # stop when backtrack reaches start node\n",
    "    while currentNode != start:\n",
    "        # grow the path backwards and backtrack\n",
    "        path.append(currentNode)\n",
    "        currentNode = explored[currentNode]\n",
    "\n",
    "    path.append(start)             # append start node for completeness\n",
    "    path.reverse()                 # reverse the path from start to goal\n",
    "\n",
    "    return path"
   ]
  },
  {
   "cell_type": "code",
   "execution_count": null,
   "id": "labeled-chicago",
   "metadata": {},
   "outputs": [],
   "source": [
    "# Define start and goal positions\n",
    "START = (1,1)\n",
    "GOAL = (5,19)\n",
    "\n",
    "# Run the DFS algorithm for path finding\n",
    "nodesExplored, nodesProcessed = depth_first_search(mazegraph, start = START, goal = GOAL)\n",
    "path = reconstruct_path(nodesExplored, start = START, goal = GOAL)\n",
    "\n",
    "# Basic measures for the algorithm\n",
    "print(\"Depth-First-Search (DFS)\")\n",
    "print()\n",
    "\n",
    "totalNodes = np.count_nonzero(maze == 0)\n",
    "print(\"Total nodes in maze :\", totalNodes)\n",
    "print(\"Total nodes visited :\", nodesProcessed, \" | \", np.round(100*(nodesProcessed/totalNodes),2), \"%\")\n",
    "print(\"Final path distance :\", len(path))\n",
    "print()\n",
    "\n",
    "# Print the path and show using helper functions\n",
    "print(\"Path through the Maze :\", path)\n",
    "showBinaryMazePath(maze,path)"
   ]
  },
  {
   "cell_type": "code",
   "execution_count": null,
   "id": "informational-night",
   "metadata": {},
   "outputs": [],
   "source": []
  },
  {
   "cell_type": "markdown",
   "id": "balanced-regulation",
   "metadata": {},
   "source": [
    "**Think about it!**\n",
    "\n",
    "Is this algorithm *complete*? Is it *optimal*? What can you do to increase its *efficiency*?"
   ]
  },
  {
   "cell_type": "markdown",
   "id": "competent-diabetes",
   "metadata": {},
   "source": [
    "> Completeness: complete if finite\n",
    "    \n",
    "> Optimality: not optimal, it will return the first path it finds at any depth\n",
    "\n",
    "> Efficiency: -"
   ]
  },
  {
   "cell_type": "code",
   "execution_count": null,
   "id": "blind-clerk",
   "metadata": {},
   "outputs": [],
   "source": []
  },
  {
   "cell_type": "markdown",
   "id": "functional-dietary",
   "metadata": {},
   "source": [
    "### Uniform-Cost-Search (UCS)\n",
    "\n",
    "**Uninformed Search** : Focusses on the graph structure and the *cost from start*, but not the *distance from goal*."
   ]
  },
  {
   "cell_type": "code",
   "execution_count": null,
   "id": "laughing-auditor",
   "metadata": {},
   "outputs": [],
   "source": [
    "# Uniform-Cost-Search (UCS) with Priority Queue\n",
    "\n",
    "def uniform_cost_search(mazeGraph, start, goal):\n",
    "    ''' Function to perform UCS to find path in a graph\n",
    "        Input  : Graph with the start and goal vertices\n",
    "        Output : Dict of explored vertices in the graph\n",
    "    '''\n",
    "    frontier = queue.PriorityQueue()      # Priority Queue for Frontier\n",
    "    \n",
    "    # initialization\n",
    "    frontier.put((0, start))    # Add the start node to frontier with priority 0\n",
    "    explored = {}               # Dict of explored nodes {node : parentNode}\n",
    "    explored[start] = None      # start node has no parent node\n",
    "    pathcost = {}               # Dict of cost from start to node\n",
    "    pathcost[start] = 0         # start to start cost should be 0\n",
    "    processed = 0               # Count of total nodes processed\n",
    "    \n",
    "    while not frontier.empty():\n",
    "        # get next node from frontier\n",
    "        currentNode = frontier.get()[1]\n",
    "        processed += 1\n",
    "        \n",
    "        # stop when goal is reached\n",
    "        if currentNode == goal:\n",
    "            break\n",
    "        \n",
    "        # explore every single neighbor of current node\n",
    "        for nextNode, weight in mazeGraph.neighbors(currentNode):\n",
    "            \n",
    "            # compute the new cost for the node based on the current node\n",
    "            newcost = pathcost[currentNode] + weight\n",
    "\n",
    "            # consider if not yet explored or if the new cost is lower \n",
    "            if (nextNode not in explored) or (newcost < pathcost[nextNode]):\n",
    "\n",
    "                # set priority as newcost \n",
    "                priority = newcost\n",
    "                \n",
    "                # put new node in frontier with priority\n",
    "                frontier.put((priority, nextNode))\n",
    "                \n",
    "                # assign current node as parent\n",
    "                explored[nextNode] = currentNode\n",
    "                \n",
    "                # keep track of the updated path cost\n",
    "                pathcost[nextNode] = newcost\n",
    "    \n",
    "    return explored, pathcost, processed\n",
    "\n",
    "\n",
    "# Reconstruct the path from the Dict of explored nodes {node : parentNode}\n",
    "# Intuition : Backtrack from the goal node by checking successive parents\n",
    "\n",
    "def reconstruct_path(explored, start, goal):\n",
    "    currentNode = goal             # start at the goal node\n",
    "    path = []                      # initiate the blank path\n",
    "\n",
    "    # stop when backtrack reaches start node\n",
    "    while currentNode != start:\n",
    "        # grow the path backwards and backtrack\n",
    "        path.append(currentNode)\n",
    "        currentNode = explored[currentNode]\n",
    "\n",
    "    path.append(start)             # append start node for completeness\n",
    "    path.reverse()                 # reverse the path from start to goal\n",
    "\n",
    "    return path"
   ]
  },
  {
   "cell_type": "code",
   "execution_count": null,
   "id": "hairy-budapest",
   "metadata": {
    "scrolled": false
   },
   "outputs": [],
   "source": [
    "# Define start and goal positions\n",
    "START = (1,1)\n",
    "GOAL = (5,19)\n",
    "\n",
    "# Run the UCS algorithm for path finding\n",
    "nodesExplored, pathsExplored, nodesProcessed = uniform_cost_search(mazegraph, start = START, goal = GOAL)\n",
    "path = reconstruct_path(nodesExplored, start = START, goal = GOAL)\n",
    "\n",
    "# Basic measures for the algorithm\n",
    "print(\"Uniform-Cost-Search (UCS)\")\n",
    "print()\n",
    "\n",
    "totalNodes = np.count_nonzero(maze == 0)\n",
    "print(\"Total nodes in maze :\", totalNodes)\n",
    "print(\"Total nodes visited :\", nodesProcessed, \" | \", np.round(100*(nodesProcessed/totalNodes),2), \"%\")\n",
    "print(\"Final path distance :\", len(path))\n",
    "print()\n",
    "\n",
    "# Print the path and show using helper functions\n",
    "print(\"Path through the Maze :\", path)\n",
    "showBinaryMazePath(maze,path)"
   ]
  },
  {
   "cell_type": "code",
   "execution_count": null,
   "id": "adverse-rings",
   "metadata": {},
   "outputs": [],
   "source": []
  },
  {
   "cell_type": "markdown",
   "id": "metropolitan-sussex",
   "metadata": {},
   "source": [
    "**Think about it!**\n",
    "\n",
    "Is this algorithm *complete*? Is it *optimal*? What can you do to increase its *efficiency*?"
   ]
  },
  {
   "cell_type": "markdown",
   "id": "lonely-sociology",
   "metadata": {},
   "source": [
    "> Completeness: complete\n",
    "    \n",
    "> Optimality: always optimal, it only traverses the path with lowest path cost\n",
    "    \n",
    "> Efficiency: -"
   ]
  },
  {
   "cell_type": "code",
   "execution_count": null,
   "id": "incorporate-homeless",
   "metadata": {},
   "outputs": [],
   "source": []
  },
  {
   "cell_type": "markdown",
   "id": "plain-israel",
   "metadata": {},
   "source": [
    "### Greedy-Search (GS)\n",
    "\n",
    "**Informed Search** : Focusses on the graph structure and the *distance from goal*, but not the *cost from start*."
   ]
  },
  {
   "cell_type": "code",
   "execution_count": null,
   "id": "proprietary-butterfly",
   "metadata": {},
   "outputs": [],
   "source": [
    "# This cell has MISSING pieces of code -- fill those in!\n",
    "\n",
    "# Heuristic function for Distance\n",
    "\n",
    "def heuristic(nodeA, nodeB):\n",
    "    (xA, yA) = nodeA\n",
    "    (xB, yB) = nodeB\n",
    "    return abs(xA - xB) + abs(yA - yB)\n",
    "\n",
    "\n",
    "# Greedy-Search (GS) with Priority Queue\n",
    "\n",
    "def greedy_search(mazeGraph, start, goal):\n",
    "    ''' Function to perform GS to find path in a graph\n",
    "        Input  : Graph with the start and goal vertices\n",
    "        Output : Dict of explored vertices in the graph\n",
    "    '''\n",
    "    frontier = queue.PriorityQueue()      # Priority Queue for Frontier\n",
    "    \n",
    "    # initialization\n",
    "    frontier.put((0, start))    # Add the start node to frontier with priority 0\n",
    "    explored = {}               # Dict of explored nodes {node : parentNode}\n",
    "    explored[start] = None      # start node has no parent node\n",
    "    pathcost = {}               # Dict of cost from start to node\n",
    "    pathcost[start] = 0         # start to start cost should be 0\n",
    "    processed = 0               # Count of total nodes processed\n",
    "    \n",
    "    while not frontier.empty():\n",
    "        # get next node from frontier\n",
    "        currentNode = frontier.get()[1]\n",
    "        processed += 1\n",
    "        \n",
    "        # stop when goal is reached\n",
    "        if currentNode == goal:\n",
    "            break\n",
    "        \n",
    "        # explore every single neighbor of current node\n",
    "        for nextNode, weight in mazeGraph.neighbors(currentNode):\n",
    "            \n",
    "            # compute the new cost for the node based on the current node\n",
    "            newcost = pathcost[currentNode] + weight\n",
    "\n",
    "            # consider if not yet explored\n",
    "            # cost from start not considered\n",
    "            if (nextNode not in explored):\n",
    "\n",
    "                # set priority as distance from goal\n",
    "                priority = heuristic(nextNode, goal)\n",
    "                \n",
    "                # put new node in frontier with priority\n",
    "                frontier.put((priority, nextNode))\n",
    "                \n",
    "                # assign current node as parent\n",
    "                explored[nextNode] = currentNode\n",
    "                \n",
    "                # keep track of the updated path cost\n",
    "                pathcost[nextNode] = newcost\n",
    "    \n",
    "    return explored, pathcost, processed\n",
    "\n",
    "\n",
    "# Reconstruct the path from the Dict of explored nodes {node : parentNode}\n",
    "# Intuition : Backtrack from the goal node by checking successive parents\n",
    "\n",
    "def reconstruct_path(explored, start, goal):\n",
    "    currentNode = goal             # start at the goal node\n",
    "    path = []                      # initiate the blank path\n",
    "\n",
    "    # stop when backtrack reaches start node\n",
    "    while currentNode != start:\n",
    "        # grow the path backwards and backtrack\n",
    "        path.append(currentNode)\n",
    "        currentNode = explored[currentNode]\n",
    "\n",
    "    path.append(start)             # append start node for completeness\n",
    "    path.reverse()                 # reverse the path from start to goal\n",
    "\n",
    "    return path"
   ]
  },
  {
   "cell_type": "code",
   "execution_count": null,
   "id": "median-fifty",
   "metadata": {},
   "outputs": [],
   "source": [
    "# Define start and goal positions\n",
    "START = (1,1)\n",
    "GOAL = (5,19)\n",
    "\n",
    "# Run the GS algorithm for path finding\n",
    "nodesExplored, pathsExplored, nodesProcessed = greedy_search(mazegraph, start = START, goal = GOAL)\n",
    "path = reconstruct_path(nodesExplored, start = START, goal = GOAL)\n",
    "\n",
    "# Basic measures for the algorithm\n",
    "print(\"Greedy-Search (GS)\")\n",
    "print()\n",
    "\n",
    "totalNodes = np.count_nonzero(maze == 0)\n",
    "print(\"Total nodes in maze :\", totalNodes)\n",
    "print(\"Total nodes visited :\", nodesProcessed, \" | \", np.round(100*(nodesProcessed/totalNodes),2), \"%\")\n",
    "print(\"Final path distance :\", len(path))\n",
    "print()\n",
    "\n",
    "# Print the path and show using helper functions\n",
    "print(\"Path through the Maze :\", path)\n",
    "showBinaryMazePath(maze,path)"
   ]
  },
  {
   "cell_type": "code",
   "execution_count": null,
   "id": "alive-chapel",
   "metadata": {},
   "outputs": [],
   "source": []
  },
  {
   "cell_type": "markdown",
   "id": "composite-stomach",
   "metadata": {},
   "source": [
    "**Think about it!**\n",
    "\n",
    "Is this algorithm *complete*? Is it *optimal*? What can you do to increase its *efficiency*?"
   ]
  },
  {
   "cell_type": "markdown",
   "id": "israeli-bibliography",
   "metadata": {},
   "source": [
    "> Completeness: not complete, can get stuck in a dead end if it has the lowest heuristic\n",
    "    \n",
    "> Optimality: not optimal\n",
    "    \n",
    "> Efficiency: -"
   ]
  },
  {
   "cell_type": "code",
   "execution_count": null,
   "id": "dying-humanity",
   "metadata": {},
   "outputs": [],
   "source": []
  },
  {
   "cell_type": "markdown",
   "id": "judicial-victor",
   "metadata": {},
   "source": [
    "### A\\*-Search (A\\*S)\n",
    "\n",
    "**Informed Search** : Focusses on the graph structure, the *cost from start* and also the *distance from goal*."
   ]
  },
  {
   "cell_type": "code",
   "execution_count": null,
   "id": "literary-adams",
   "metadata": {},
   "outputs": [],
   "source": [
    "# This cell has MISSING pieces of code -- fill those in!\n",
    "\n",
    "# Heuristic function for Distance\n",
    "\n",
    "def heuristic(nodeA, nodeB):\n",
    "    (xA, yA) = nodeA\n",
    "    (xB, yB) = nodeB\n",
    "    return abs(xA - xB) + abs(yA - yB)\n",
    "\n",
    "\n",
    "# A*-Search (A*S) with Priority Queue\n",
    "\n",
    "def astar_search(mazeGraph, start, goal):\n",
    "    ''' Function to perform A*S to find path in a graph\n",
    "        Input  : Graph with the start and goal vertices\n",
    "        Output : Dict of explored vertices in the graph\n",
    "    '''\n",
    "    frontier = queue.PriorityQueue()      # Priority Queue for Frontier\n",
    "    \n",
    "    # initialization\n",
    "    frontier.put((0, start))    # Add the start node to frontier with priority 0\n",
    "    explored = {}               # Dict of explored nodes {node : parentNode}\n",
    "    explored[start] = None      # start node has no parent node\n",
    "    pathcost = {}               # Dict of cost from start to node\n",
    "    pathcost[start] = 0         # start to start cost should be 0\n",
    "    processed = 0               # Count of total nodes processed\n",
    "    \n",
    "    while not frontier.empty():\n",
    "        # get next node from frontier\n",
    "        currentNode = frontier.get()[1]\n",
    "        processed += 1\n",
    "        \n",
    "        # stop when goal is reached\n",
    "        if currentNode == goal:\n",
    "            break\n",
    "        \n",
    "        # explore every single neighbor of current node\n",
    "        for nextNode, weight in mazeGraph.neighbors(currentNode):\n",
    "            \n",
    "            # compute the new cost for the node based on the current node\n",
    "            newcost = pathcost[currentNode] + weight\n",
    "\n",
    "            # consider if not yet explored or if new cost is lower\n",
    "            if (nextNode not in explored) or (newcost < pathcost[nextNode]):\n",
    "\n",
    "                # set priority as cost from start + distance from goal\n",
    "                priority = newcost + heuristic(nextNode, goal)\n",
    "                \n",
    "                # put new node in frontier with priority\n",
    "                frontier.put((priority, nextNode))\n",
    "                \n",
    "                # assign current node as parent\n",
    "                explored[nextNode] = currentNode\n",
    "                \n",
    "                # keep track of the updated path cost\n",
    "                pathcost[nextNode] = newcost\n",
    "    \n",
    "    \n",
    "    return explored, pathcost, processed\n",
    "\n",
    "\n",
    "# Reconstruct the path from the Dict of explored nodes {node : parentNode}\n",
    "# Intuition : Backtrack from the goal node by checking successive parents\n",
    "\n",
    "def reconstruct_path(explored, start, goal):\n",
    "    currentNode = goal             # start at the goal node\n",
    "    path = []                      # initiate the blank path\n",
    "\n",
    "    # stop when backtrack reaches start node\n",
    "    while currentNode != start:\n",
    "        # grow the path backwards and backtrack\n",
    "        path.append(currentNode)\n",
    "        currentNode = explored[currentNode]\n",
    "\n",
    "    path.append(start)             # append start node for completeness\n",
    "    path.reverse()                 # reverse the path from start to goal\n",
    "\n",
    "    return path"
   ]
  },
  {
   "cell_type": "code",
   "execution_count": null,
   "id": "relevant-blame",
   "metadata": {},
   "outputs": [],
   "source": [
    "# Define start and goal positions\n",
    "START = (1,1)\n",
    "GOAL = (5,19)\n",
    "\n",
    "# Run the A*S algorithm for path finding\n",
    "nodesExplored, pathsExplored, nodesProcessed = astar_search(mazegraph, start = START, goal = GOAL)\n",
    "path = reconstruct_path(nodesExplored, start = START, goal = GOAL)\n",
    "\n",
    "# Basic measures for the algorithm\n",
    "print(\"A*-Search (A*S)\")\n",
    "print()\n",
    "\n",
    "totalNodes = np.count_nonzero(maze == 0)\n",
    "print(\"Total nodes in maze :\", totalNodes)\n",
    "print(\"Total nodes visited :\", nodesProcessed, \" | \", np.round(100*(nodesProcessed/totalNodes),2), \"%\")\n",
    "print(\"Final path distance :\", len(path))\n",
    "print()\n",
    "\n",
    "# Print the path and show using helper functions\n",
    "print(\"Path through the Maze :\", path)\n",
    "showBinaryMazePath(maze,path)"
   ]
  },
  {
   "cell_type": "code",
   "execution_count": null,
   "id": "skilled-isolation",
   "metadata": {},
   "outputs": [],
   "source": []
  },
  {
   "cell_type": "markdown",
   "id": "romantic-messaging",
   "metadata": {},
   "source": [
    "**Think about it!**\n",
    "\n",
    "Is this algorithm *complete*? Is it *optimal*? What can you do to increase its *efficiency*?"
   ]
  },
  {
   "cell_type": "markdown",
   "id": "empty-efficiency",
   "metadata": {},
   "source": [
    "> Completeness: complete\n",
    "\n",
    "> Optimality: optimal\n",
    "\n",
    "> Efficiency: -"
   ]
  },
  {
   "cell_type": "code",
   "execution_count": null,
   "id": "planned-restriction",
   "metadata": {},
   "outputs": [],
   "source": []
  },
  {
   "cell_type": "markdown",
   "id": "coated-harvey",
   "metadata": {},
   "source": [
    "---\n",
    "## Experiment and Explore (optional)\n",
    "\n",
    "Play around with the algorithms and their variations at this amazing website : https://qiao.github.io/PathFinding.js/visual/\n",
    "\n",
    "Let us consider the *efficiency* of an algorithm as the %-age of nodes it has to explore to find the path. Lower the better.\n",
    "\n",
    "1. Try to redefine the maze (change the initial binary matrix) so that BFS and DFS find the same path. Which one is more efficient?       \n",
    "2. Try to redefine the maze (change the initial binary matrix) so that UCS and BFS find the same path, but UCS is more efficient than BFS.         \n",
    "3. Try to redefine the maze (change the initial binary matrix) so that UCS and GS find the same path. Which one is more efficient?       \n",
    "4. Try to redefine the maze (change the initial binary matrix) so that GS and A\\*S find the same path. Which one is more efficient?       \n",
    "5. Try to redefine the heuristic (Manhattan, Euclidean or Chebyshev distance) in case of GS and A\\*S. What changes do you see?       "
   ]
  },
  {
   "cell_type": "markdown",
   "id": "nervous-bronze",
   "metadata": {},
   "source": [
    "## Optional 1\n",
    "\n",
    "Try to redefine the maze (change the initial binary matrix) so that BFS and DFS find the same path. Which one is more efficient?"
   ]
  },
  {
   "cell_type": "code",
   "execution_count": null,
   "id": "greatest-flesh",
   "metadata": {},
   "outputs": [],
   "source": [
    "# Create the Maze #2\n",
    "# 0 : empty cell, reachable within a path\n",
    "# 1 : blocked cell or wall, not reachable\n",
    "\n",
    "maze2 = [[1, 1, 1, 1, 1, 1, 1, 1, 1, 1, 1, 1, 1, 1, 1, 1, 1, 1, 1, 1],\n",
    "         [1, 0, 0, 0, 1, 0, 0, 0, 0, 0, 0, 1, 0, 0, 0, 0, 0, 0, 0, 1],\n",
    "         [1, 0, 1, 0, 1, 1, 1, 1, 0, 1, 0, 1, 0, 1, 1, 1, 1, 1, 0, 1],\n",
    "         [1, 0, 1, 0, 0, 0, 0, 0, 0, 1, 0, 1, 0, 0, 1, 0, 0, 0, 0, 1],\n",
    "         [1, 0, 1, 1, 1, 1, 0, 0, 0, 1, 0, 0, 0, 0, 1, 1, 1, 1, 1, 1],\n",
    "         [1, 0, 0, 0, 0, 1, 0, 1, 0, 1, 0, 1, 1, 0, 1, 0, 0, 0, 0, 0],\n",
    "         [1, 0, 0, 1, 0, 0, 0, 1, 0, 1, 0, 0, 1, 0, 1, 0, 1, 1, 1, 1],\n",
    "         [1, 0, 0, 1, 1, 1, 1, 1, 0, 1, 1, 0, 1, 1, 1, 0, 0, 0, 0, 1],\n",
    "         [1, 0, 0, 0, 0, 0, 0, 0, 0, 0, 1, 0, 0, 0, 0, 0, 0, 0, 0, 1],\n",
    "         [1, 1, 1, 1, 1, 1, 1, 1, 1, 1, 1, 1, 1, 1, 1, 1, 1, 1, 1, 1]]\n",
    "\n",
    "# Convert to a NumPy array\n",
    "maze2 = np.array(maze2)\n",
    "\n",
    "# Define start and goal positions\n",
    "START = (1,1)\n",
    "GOAL = (5,19)\n",
    "\n",
    "# Print the maze using helper functions\n",
    "print(\"Maze of dimensions\", maze2.shape)\n",
    "showBinaryMazeProblem(maze2, START, GOAL)\n",
    "\n",
    "# convert maze to graph form\n",
    "mazegraph2 = maze_to_graph(maze2)"
   ]
  },
  {
   "cell_type": "markdown",
   "id": "rocky-philosophy",
   "metadata": {},
   "source": [
    "### Breadth-First Search"
   ]
  },
  {
   "cell_type": "code",
   "execution_count": null,
   "id": "continent-hungary",
   "metadata": {},
   "outputs": [],
   "source": [
    "# Run the BFS algorithm for path finding\n",
    "nodesExplored, nodesProcessed = breadth_first_search(mazegraph2, start = START, goal = GOAL)\n",
    "path = reconstruct_path(nodesExplored, start = START, goal = GOAL)\n",
    "\n",
    "# Basic measures for the algorithm\n",
    "print(\"Breadth-First-Search (BFS)\")\n",
    "print()\n",
    "\n",
    "totalNodes = np.count_nonzero(maze2 == 0)\n",
    "print(\"Total nodes in maze :\", totalNodes)\n",
    "print(\"Total nodes visited :\", nodesProcessed, \" | \", np.round(100*(nodesProcessed/totalNodes),2), \"%\")\n",
    "print(\"Final path distance :\", len(path))\n",
    "print()\n",
    "\n",
    "# Print the path and show using helper functions\n",
    "print(\"Path through the Maze :\", path)\n",
    "showBinaryMazePath(maze2,path)"
   ]
  },
  {
   "cell_type": "markdown",
   "id": "suited-engineering",
   "metadata": {},
   "source": [
    "### Depth-First Search"
   ]
  },
  {
   "cell_type": "code",
   "execution_count": null,
   "id": "recorded-cookie",
   "metadata": {},
   "outputs": [],
   "source": [
    "# Run the DFS algorithm for path finding\n",
    "nodesExplored, nodesProcessed = depth_first_search(mazegraph2, start = START, goal = GOAL)\n",
    "path = reconstruct_path(nodesExplored, start = START, goal = GOAL)\n",
    "\n",
    "# Basic measures for the algorithm\n",
    "print(\"Depth-First-Search (DFS)\")\n",
    "print()\n",
    "\n",
    "totalNodes = np.count_nonzero(maze2 == 0)\n",
    "print(\"Total nodes in maze :\", totalNodes)\n",
    "print(\"Total nodes visited :\", nodesProcessed, \" | \", np.round(100*(nodesProcessed/totalNodes),2), \"%\")\n",
    "print(\"Final path distance :\", len(path))\n",
    "print()\n",
    "\n",
    "# Print the path and show using helper functions\n",
    "print(\"Path through the Maze :\", path)\n",
    "showBinaryMazePath(maze2,path)"
   ]
  },
  {
   "cell_type": "markdown",
   "id": "lonely-tulsa",
   "metadata": {},
   "source": [
    "> DFS is more efficient than BFS because it visited less nodes in total"
   ]
  },
  {
   "cell_type": "markdown",
   "id": "adolescent-alexandria",
   "metadata": {},
   "source": [
    "## Optional 2\n",
    "\n",
    "Try to redefine the maze (change the initial binary matrix) so that UCS and BFS find the same path, but UCS is more efficient than BFS."
   ]
  },
  {
   "cell_type": "code",
   "execution_count": null,
   "id": "cubic-asbestos",
   "metadata": {},
   "outputs": [],
   "source": [
    "# Create the Maze #3\n",
    "# 0 : empty cell, reachable within a path\n",
    "# 1 : blocked cell or wall, not reachable\n",
    "\n",
    "maze3 = [[1, 1, 1, 1, 1, 1, 1, 1, 1, 1, 1, 1, 1, 1, 1, 1, 1, 1, 1, 1],\n",
    "         [1, 0, 0, 0, 0, 0, 0, 0, 0, 0, 0, 1, 0, 0, 0, 0, 0, 0, 0, 1],\n",
    "         [1, 0, 1, 0, 1, 1, 1, 1, 0, 1, 0, 1, 0, 1, 1, 1, 1, 1, 0, 1],\n",
    "         [1, 0, 1, 0, 0, 0, 0, 1, 0, 1, 0, 1, 0, 0, 1, 0, 0, 0, 0, 1],\n",
    "         [1, 0, 1, 1, 1, 1, 0, 1, 0, 1, 0, 0, 0, 0, 1, 1, 1, 1, 1, 1],\n",
    "         [1, 0, 1, 0, 1, 0, 0, 0, 0, 0, 0, 1, 1, 0, 1, 0, 0, 0, 0, 1],\n",
    "         [1, 0, 1, 0, 0, 0, 1, 0, 1, 0, 0, 0, 1, 0, 1, 0, 1, 1, 1, 1],\n",
    "         [1, 0, 1, 0, 1, 1, 1, 1, 1, 1, 0, 0, 1, 1, 1, 0, 0, 0, 0, 1],\n",
    "         [1, 0, 0, 0, 0, 0, 0, 0, 0, 1, 0, 0, 0, 0, 0, 0, 0, 0, 0, 1],\n",
    "         [1, 1, 1, 1, 1, 1, 1, 1, 0, 1, 1, 1, 1, 1, 1, 1, 1, 1, 1, 1]]\n",
    "\n",
    "# Convert to a NumPy array\n",
    "maze3 = np.array(maze3)\n",
    "\n",
    "# Define start and goal positions\n",
    "START = (1,1)\n",
    "GOAL = (9,8)\n",
    "\n",
    "# Print the maze using helper functions\n",
    "print(\"Maze of dimensions\", maze3.shape)\n",
    "showBinaryMazeProblem(maze3, START, GOAL)\n",
    "\n",
    "# convert maze to graph form\n",
    "mazegraph3 = maze_to_graph(maze3)"
   ]
  },
  {
   "cell_type": "markdown",
   "id": "gorgeous-arrest",
   "metadata": {},
   "source": [
    "### Uniform-Cost Search"
   ]
  },
  {
   "cell_type": "code",
   "execution_count": null,
   "id": "improving-memphis",
   "metadata": {},
   "outputs": [],
   "source": [
    "# Run the UCS algorithm for path finding\n",
    "nodesExplored, pathsExplored, nodesProcessed = uniform_cost_search(mazegraph3, start = START, goal = GOAL)\n",
    "path = reconstruct_path(nodesExplored, start = START, goal = GOAL)\n",
    "\n",
    "# Basic measures for the algorithm\n",
    "print(\"Uniform-Cost-Search (UCS)\")\n",
    "print()\n",
    "\n",
    "totalNodes = np.count_nonzero(maze3 == 0)\n",
    "print(\"Total nodes in maze :\", totalNodes)\n",
    "print(\"Total nodes visited :\", nodesProcessed, \" | \", np.round(100*(nodesProcessed/totalNodes),2), \"%\")\n",
    "print(\"Final path distance :\", len(path))\n",
    "print()\n",
    "\n",
    "# Print the path and show using helper functions\n",
    "print(\"Path through the Maze :\", path)\n",
    "showBinaryMazePath(maze3,path)"
   ]
  },
  {
   "cell_type": "markdown",
   "id": "compressed-injection",
   "metadata": {},
   "source": [
    "### Breadth-First Search"
   ]
  },
  {
   "cell_type": "code",
   "execution_count": null,
   "id": "sophisticated-retrieval",
   "metadata": {},
   "outputs": [],
   "source": [
    "# Run the BFS algorithm for path finding\n",
    "nodesExplored, nodesProcessed = breadth_first_search(mazegraph3, start = START, goal = GOAL)\n",
    "path = reconstruct_path(nodesExplored, start = START, goal = GOAL)\n",
    "\n",
    "# Basic measures for the algorithm\n",
    "print(\"Breadth-First-Search (BFS)\")\n",
    "print()\n",
    "\n",
    "totalNodes = np.count_nonzero(maze3 == 0)\n",
    "print(\"Total nodes in maze :\", totalNodes)\n",
    "print(\"Total nodes visited :\", nodesProcessed, \" | \", np.round(100*(nodesProcessed/totalNodes),2), \"%\")\n",
    "print(\"Final path distance :\", len(path))\n",
    "print()\n",
    "\n",
    "# Print the path and show using helper functions\n",
    "print(\"Path through the Maze :\", path)\n",
    "showBinaryMazePath(maze3,path)"
   ]
  },
  {
   "cell_type": "code",
   "execution_count": null,
   "id": "satellite-collectible",
   "metadata": {},
   "outputs": [],
   "source": [
    "# is it even possible :'"
   ]
  },
  {
   "cell_type": "markdown",
   "id": "corporate-bosnia",
   "metadata": {},
   "source": [
    "## Optional 3\n",
    "Try to redefine the maze (change the initial binary matrix) so that UCS and GS find the same path. Which one is more efficient?"
   ]
  },
  {
   "cell_type": "code",
   "execution_count": null,
   "id": "spread-heart",
   "metadata": {},
   "outputs": [],
   "source": [
    "# Create the Maze #4\n",
    "# 0 : empty cell, reachable within a path\n",
    "# 1 : blocked cell or wall, not reachable\n",
    "\n",
    "maze4 = [[1, 1, 1, 1, 1, 1, 1, 1, 1, 1, 1, 1, 1, 1, 1, 1, 1, 1, 1, 1],\n",
    "         [1, 0, 0, 0, 1, 0, 0, 0, 0, 0, 0, 1, 0, 0, 0, 0, 0, 0, 0, 1],\n",
    "         [1, 0, 1, 0, 1, 1, 1, 1, 0, 1, 0, 1, 0, 1, 1, 1, 1, 1, 0, 1],\n",
    "         [1, 0, 1, 0, 0, 0, 0, 0, 0, 1, 0, 1, 0, 0, 1, 0, 0, 0, 0, 1],\n",
    "         [1, 0, 1, 1, 1, 1, 0, 0, 0, 1, 0, 0, 0, 0, 1, 1, 1, 1, 1, 1],\n",
    "         [1, 0, 0, 0, 0, 1, 0, 1, 0, 1, 0, 1, 1, 0, 1, 0, 0, 0, 0, 0],\n",
    "         [1, 0, 0, 1, 0, 0, 0, 1, 0, 1, 0, 0, 1, 0, 1, 0, 1, 1, 1, 1],\n",
    "         [1, 0, 0, 1, 1, 1, 1, 1, 0, 1, 1, 0, 1, 1, 1, 0, 0, 0, 0, 1],\n",
    "         [1, 0, 0, 0, 0, 0, 0, 0, 0, 0, 1, 0, 0, 0, 0, 0, 0, 0, 0, 1],\n",
    "         [1, 1, 1, 1, 1, 1, 1, 1, 1, 1, 1, 1, 1, 1, 1, 1, 1, 1, 1, 1]]\n",
    "\n",
    "# Convert to a NumPy array\n",
    "maze4 = np.array(maze4)\n",
    "\n",
    "# Define start and goal positions\n",
    "START = (1,1)\n",
    "GOAL = (5,19)\n",
    "\n",
    "# Print the maze using helper functions\n",
    "print(\"Maze of dimensions\", maze4.shape)\n",
    "showBinaryMazeProblem(maze4, START, GOAL)\n",
    "\n",
    "# convert maze to graph form\n",
    "mazegraph4 = maze_to_graph(maze4)"
   ]
  },
  {
   "cell_type": "markdown",
   "id": "close-scroll",
   "metadata": {},
   "source": [
    "### Uniform-Cost Search"
   ]
  },
  {
   "cell_type": "code",
   "execution_count": null,
   "id": "official-australian",
   "metadata": {},
   "outputs": [],
   "source": [
    "# Run the UCS algorithm for path finding\n",
    "nodesExplored, pathsExplored, nodesProcessed = uniform_cost_search(mazegraph4, start = START, goal = GOAL)\n",
    "path = reconstruct_path(nodesExplored, start = START, goal = GOAL)\n",
    "\n",
    "# Basic measures for the algorithm\n",
    "print(\"Uniform-Cost-Search (UCS)\")\n",
    "print()\n",
    "\n",
    "totalNodes = np.count_nonzero(maze4 == 0)\n",
    "print(\"Total nodes in maze :\", totalNodes)\n",
    "print(\"Total nodes visited :\", nodesProcessed, \" | \", np.round(100*(nodesProcessed/totalNodes),2), \"%\")\n",
    "print(\"Final path distance :\", len(path))\n",
    "print()\n",
    "\n",
    "# Print the path and show using helper functions\n",
    "print(\"Path through the Maze :\", path)\n",
    "showBinaryMazePath(maze4,path)"
   ]
  },
  {
   "cell_type": "markdown",
   "id": "awful-johnston",
   "metadata": {},
   "source": [
    "### Greedy Search"
   ]
  },
  {
   "cell_type": "code",
   "execution_count": null,
   "id": "classical-relay",
   "metadata": {},
   "outputs": [],
   "source": [
    "# Define start and goal positions\n",
    "START = (1,1)\n",
    "GOAL = (5,19)\n",
    "\n",
    "# Run the GS algorithm for path finding\n",
    "nodesExplored, pathsExplored, nodesProcessed = greedy_search(mazegraph4, start = START, goal = GOAL)\n",
    "path = reconstruct_path(nodesExplored, start = START, goal = GOAL)\n",
    "\n",
    "# Basic measures for the algorithm\n",
    "print(\"Greedy-Search (GS)\")\n",
    "print()\n",
    "\n",
    "totalNodes = np.count_nonzero(maze4 == 0)\n",
    "print(\"Total nodes in maze :\", totalNodes)\n",
    "print(\"Total nodes visited :\", nodesProcessed, \" | \", np.round(100*(nodesProcessed/totalNodes),2), \"%\")\n",
    "print(\"Final path distance :\", len(path))\n",
    "print()\n",
    "\n",
    "# Print the path and show using helper functions\n",
    "print(\"Path through the Maze :\", path)\n",
    "showBinaryMazePath(maze4,path)"
   ]
  },
  {
   "cell_type": "markdown",
   "id": "immune-wrist",
   "metadata": {},
   "source": [
    "> Greedy search is more efficient as it has lower % of total nodes visited"
   ]
  },
  {
   "cell_type": "markdown",
   "id": "turkish-questionnaire",
   "metadata": {},
   "source": [
    "## Optional 4\n",
    "Try to redefine the maze (change the initial binary matrix) so that GS and A*S find the same path. Which one is more efficient?"
   ]
  },
  {
   "cell_type": "code",
   "execution_count": null,
   "id": "encouraging-wagner",
   "metadata": {},
   "outputs": [],
   "source": [
    "# Create the Maze #5\n",
    "# 0 : empty cell, reachable within a path\n",
    "# 1 : blocked cell or wall, not reachable\n",
    "\n",
    "maze5 = [[1, 1, 1, 1, 1, 1, 1, 1, 1, 1, 1, 1, 1, 1, 1, 1, 1, 1, 1, 1],\n",
    "         [1, 0, 0, 0, 1, 0, 0, 0, 0, 0, 0, 1, 0, 0, 0, 0, 0, 0, 0, 1],\n",
    "         [1, 0, 1, 0, 1, 1, 1, 1, 0, 1, 0, 1, 0, 1, 1, 1, 1, 1, 0, 1],\n",
    "         [1, 0, 1, 0, 0, 0, 0, 0, 0, 1, 0, 1, 0, 0, 1, 0, 0, 0, 0, 1],\n",
    "         [1, 0, 1, 1, 1, 1, 0, 0, 0, 1, 0, 0, 0, 0, 1, 1, 1, 1, 1, 1],\n",
    "         [1, 0, 0, 0, 0, 1, 0, 1, 0, 1, 0, 1, 1, 0, 1, 0, 0, 0, 0, 0],\n",
    "         [1, 0, 0, 1, 0, 0, 0, 1, 0, 1, 0, 0, 1, 0, 1, 0, 1, 1, 1, 1],\n",
    "         [1, 0, 0, 1, 1, 1, 1, 1, 0, 1, 1, 0, 1, 1, 1, 0, 0, 0, 0, 1],\n",
    "         [1, 0, 0, 0, 0, 0, 0, 0, 0, 0, 1, 0, 0, 0, 0, 0, 0, 0, 0, 1],\n",
    "         [1, 1, 1, 1, 1, 1, 1, 1, 1, 1, 1, 1, 1, 1, 1, 1, 1, 1, 1, 1]]\n",
    "\n",
    "# Convert to a NumPy array\n",
    "maze5 = np.array(maze5)\n",
    "\n",
    "# Define start and goal positions\n",
    "START = (1,1)\n",
    "GOAL = (5,19)\n",
    "\n",
    "# Print the maze using helper functions\n",
    "print(\"Maze of dimensions\", maze5.shape)\n",
    "showBinaryMazeProblem(maze5, START, GOAL)\n",
    "\n",
    "# convert maze to graph form\n",
    "mazegraph5 = maze_to_graph(maze5)"
   ]
  },
  {
   "cell_type": "markdown",
   "id": "relative-breeding",
   "metadata": {},
   "source": [
    "### Greedy Search"
   ]
  },
  {
   "cell_type": "code",
   "execution_count": null,
   "id": "medical-empire",
   "metadata": {},
   "outputs": [],
   "source": [
    "# Define start and goal positions\n",
    "START = (1,1)\n",
    "GOAL = (5,19)\n",
    "\n",
    "# Run the GS algorithm for path finding\n",
    "nodesExplored, pathsExplored, nodesProcessed = greedy_search(mazegraph5, start = START, goal = GOAL)\n",
    "path = reconstruct_path(nodesExplored, start = START, goal = GOAL)\n",
    "\n",
    "# Basic measures for the algorithm\n",
    "print(\"Greedy-Search (GS)\")\n",
    "print()\n",
    "\n",
    "totalNodes = np.count_nonzero(maze5 == 0)\n",
    "print(\"Total nodes in maze :\", totalNodes)\n",
    "print(\"Total nodes visited :\", nodesProcessed, \" | \", np.round(100*(nodesProcessed/totalNodes),2), \"%\")\n",
    "print(\"Final path distance :\", len(path))\n",
    "print()\n",
    "\n",
    "# Print the path and show using helper functions\n",
    "print(\"Path through the Maze :\", path)\n",
    "showBinaryMazePath(maze5,path)"
   ]
  },
  {
   "cell_type": "markdown",
   "id": "understood-brunei",
   "metadata": {},
   "source": [
    "### A* Search"
   ]
  },
  {
   "cell_type": "code",
   "execution_count": null,
   "id": "elegant-sucking",
   "metadata": {},
   "outputs": [],
   "source": [
    "# Define start and goal positions\n",
    "START = (1,1)\n",
    "GOAL = (5,19)\n",
    "\n",
    "# Run the A*S algorithm for path finding\n",
    "nodesExplored, pathsExplored, nodesProcessed = astar_search(mazegraph5, start = START, goal = GOAL)\n",
    "path = reconstruct_path(nodesExplored, start = START, goal = GOAL)\n",
    "\n",
    "# Basic measures for the algorithm\n",
    "print(\"A*-Search (A*S)\")\n",
    "print()\n",
    "\n",
    "totalNodes = np.count_nonzero(maze5 == 0)\n",
    "print(\"Total nodes in maze :\", totalNodes)\n",
    "print(\"Total nodes visited :\", nodesProcessed, \" | \", np.round(100*(nodesProcessed/totalNodes),2), \"%\")\n",
    "print(\"Final path distance :\", len(path))\n",
    "print()\n",
    "\n",
    "# Print the path and show using helper functions\n",
    "print(\"Path through the Maze :\", path)\n",
    "showBinaryMazePath(maze5,path)"
   ]
  },
  {
   "cell_type": "markdown",
   "id": "robust-calibration",
   "metadata": {},
   "source": [
    "> Greedy search is more efficient as it has lower % of total nodes visited"
   ]
  },
  {
   "cell_type": "markdown",
   "id": "athletic-posting",
   "metadata": {},
   "source": [
    "## Optional 5\n",
    "\n",
    "Try to redefine the heuristic (Manhattan, Euclidean or Chebyshev distance) in case of GS and A*S. What changes do you see?"
   ]
  },
  {
   "cell_type": "markdown",
   "id": "extreme-danish",
   "metadata": {},
   "source": [
    "### Manhattan Distance Definition"
   ]
  },
  {
   "cell_type": "code",
   "execution_count": null,
   "id": "isolated-symphony",
   "metadata": {},
   "outputs": [],
   "source": [
    "# Heuristic function for Distance - Manhattan\n",
    "\n",
    "def heuristic(nodeA, nodeB):\n",
    "    (xA, yA) = nodeA\n",
    "    (xB, yB) = nodeB\n",
    "    return abs(xA - xB) + abs(yA - yB)"
   ]
  },
  {
   "cell_type": "markdown",
   "id": "funky-teacher",
   "metadata": {},
   "source": [
    "### Manhattan Distance"
   ]
  },
  {
   "cell_type": "code",
   "execution_count": null,
   "id": "sitting-consideration",
   "metadata": {
    "scrolled": false
   },
   "outputs": [],
   "source": [
    "# Define start and goal positions\n",
    "START = (1,1)\n",
    "GOAL = (5,19)\n",
    "\n",
    "# Run the A*S algorithm for path finding\n",
    "nodesExplored, pathsExplored, nodesProcessed = astar_search(mazegraph, start = START, goal = GOAL)\n",
    "path = reconstruct_path(nodesExplored, start = START, goal = GOAL)\n",
    "\n",
    "# Basic measures for the algorithm\n",
    "print(\"A*-Search (A*S)\")\n",
    "print()\n",
    "\n",
    "totalNodes = np.count_nonzero(maze == 0)\n",
    "print(\"Total nodes in maze :\", totalNodes)\n",
    "print(\"Total nodes visited :\", nodesProcessed, \" | \", np.round(100*(nodesProcessed/totalNodes),2), \"%\")\n",
    "print(\"Final path distance :\", len(path))\n",
    "print()\n",
    "\n",
    "# Print the path and show using helper functions\n",
    "print(\"Path through the Maze :\", path)\n",
    "showBinaryMazePath(maze,path)"
   ]
  },
  {
   "cell_type": "markdown",
   "id": "great-proceeding",
   "metadata": {},
   "source": [
    "### Euclidean Distance Definition"
   ]
  },
  {
   "cell_type": "code",
   "execution_count": null,
   "id": "unknown-diabetes",
   "metadata": {},
   "outputs": [],
   "source": [
    "# Heuristic function for Distance - Euclidean\n",
    "from math import sqrt\n",
    "def heuristic(nodeA, nodeB):\n",
    "    (xA, yA) = nodeA\n",
    "    (xB, yB) = nodeB\n",
    "    return sqrt((xA - xB)**2 + (yA - yB)**2)"
   ]
  },
  {
   "cell_type": "markdown",
   "id": "listed-impact",
   "metadata": {},
   "source": [
    "### Euclidean Distance"
   ]
  },
  {
   "cell_type": "code",
   "execution_count": null,
   "id": "comparative-edinburgh",
   "metadata": {},
   "outputs": [],
   "source": [
    "# Define start and goal positions\n",
    "START = (1,1)\n",
    "GOAL = (5,19)\n",
    "\n",
    "# Run the A*S algorithm for path finding\n",
    "nodesExplored, pathsExplored, nodesProcessed = astar_search(mazegraph, start = START, goal = GOAL)\n",
    "path = reconstruct_path(nodesExplored, start = START, goal = GOAL)\n",
    "\n",
    "# Basic measures for the algorithm\n",
    "print(\"A*-Search (A*S)\")\n",
    "print()\n",
    "\n",
    "totalNodes = np.count_nonzero(maze == 0)\n",
    "print(\"Total nodes in maze :\", totalNodes)\n",
    "print(\"Total nodes visited :\", nodesProcessed, \" | \", np.round(100*(nodesProcessed/totalNodes),2), \"%\")\n",
    "print(\"Final path distance :\", len(path))\n",
    "print()\n",
    "\n",
    "# Print the path and show using helper functions\n",
    "print(\"Path through the Maze :\", path)\n",
    "showBinaryMazePath(maze,path)"
   ]
  },
  {
   "cell_type": "markdown",
   "id": "molecular-scout",
   "metadata": {},
   "source": [
    "### Chebyshev Distance Definition"
   ]
  },
  {
   "cell_type": "code",
   "execution_count": null,
   "id": "wooden-career",
   "metadata": {},
   "outputs": [],
   "source": [
    "# Heuristic function for Distance - Euclidean\n",
    "\n",
    "def heuristic(nodeA, nodeB):\n",
    "    (xA, yA) = nodeA\n",
    "    (xB, yB) = nodeB\n",
    "    return max(xA - xB, yA - yB)"
   ]
  },
  {
   "cell_type": "markdown",
   "id": "academic-hydrogen",
   "metadata": {},
   "source": [
    "### Chebyshev Distance"
   ]
  },
  {
   "cell_type": "code",
   "execution_count": null,
   "id": "controlling-honduras",
   "metadata": {},
   "outputs": [],
   "source": [
    "# Define start and goal positions\n",
    "START = (1,1)\n",
    "GOAL = (5,19)\n",
    "\n",
    "# Run the A*S algorithm for path finding\n",
    "nodesExplored, pathsExplored, nodesProcessed = astar_search(mazegraph, start = START, goal = GOAL)\n",
    "path = reconstruct_path(nodesExplored, start = START, goal = GOAL)\n",
    "\n",
    "# Basic measures for the algorithm\n",
    "print(\"A*-Search (A*S)\")\n",
    "print()\n",
    "\n",
    "totalNodes = np.count_nonzero(maze == 0)\n",
    "print(\"Total nodes in maze :\", totalNodes)\n",
    "print(\"Total nodes visited :\", nodesProcessed, \" | \", np.round(100*(nodesProcessed/totalNodes),2), \"%\")\n",
    "print(\"Final path distance :\", len(path))\n",
    "print()\n",
    "\n",
    "# Print the path and show using helper functions\n",
    "print(\"Path through the Maze :\", path)\n",
    "showBinaryMazePath(maze,path)"
   ]
  },
  {
   "cell_type": "markdown",
   "id": "previous-mississippi",
   "metadata": {},
   "source": [
    "> All the heuristics defined with different distances return the same path for this particular maze, but total number of nodes visited and hence efficiency are all different.\n",
    "\n",
    "> In order of decreasing efficiency: Manhattan, Euclidean, Chebyshev"
   ]
  },
  {
   "cell_type": "code",
   "execution_count": null,
   "id": "complimentary-india",
   "metadata": {},
   "outputs": [],
   "source": []
  }
 ],
 "metadata": {
  "kernelspec": {
   "display_name": "Python 3",
   "language": "python",
   "name": "python3"
  },
  "language_info": {
   "codemirror_mode": {
    "name": "ipython",
    "version": 3
   },
   "file_extension": ".py",
   "mimetype": "text/x-python",
   "name": "python",
   "nbconvert_exporter": "python",
   "pygments_lexer": "ipython3",
   "version": "3.8.5"
  }
 },
 "nbformat": 4,
 "nbformat_minor": 5
}
