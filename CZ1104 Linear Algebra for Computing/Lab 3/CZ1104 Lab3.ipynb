{
 "cells": [
  {
   "cell_type": "code",
   "execution_count": null,
   "metadata": {},
   "outputs": [],
   "source": [
    "import pandas as pd\n",
    "import dill\n",
    "import numpy as np\n",
    "import numpy.linalg as la\n",
    "pd.__version__"
   ]
  },
  {
   "cell_type": "code",
   "execution_count": null,
   "metadata": {},
   "outputs": [],
   "source": [
    "dill.__version__"
   ]
  },
  {
   "cell_type": "code",
   "execution_count": null,
   "metadata": {},
   "outputs": [],
   "source": [
    "#Q1a\n",
    "raw_A1 = np.array([[62.2, 171.1, 17, 36.8],\\\n",
    "                    [52.2, 162.6, 19, 36.5],\\\n",
    "                    [72.3, 178.2, 22, 36.7],\\\n",
    "                    [80.8, 185.2, 24, 37.9],\\\n",
    "                    [72.5, 178.3, 22, 37.8]], dtype = float)\n",
    "\n",
    "\n",
    "A1 = raw_A1[:, 0:3]\n",
    "\n",
    "print(raw_A1)\n",
    "print(A1)"
   ]
  },
  {
   "cell_type": "code",
   "execution_count": null,
   "metadata": {},
   "outputs": [],
   "source": [
    "#Q1b\n",
    "\n",
    "# The closer the 2 vectors are, the larger their cosine similarity\n",
    "# Measure cosine similarity of each person (row) and compare"
   ]
  },
  {
   "cell_type": "code",
   "execution_count": null,
   "metadata": {},
   "outputs": [],
   "source": [
    "#Q1c\n",
    "def my_norm(x):\n",
    "    sum = 0\n",
    "    for i in range(len(x)):\n",
    "        sum += x[i] ** 2\n",
    "    return np.sqrt(sum)\n",
    "\n",
    "def my_dot(x, y):\n",
    "    if len(x) != len(y):\n",
    "        print(\"Array have different dimensions, error.\")\n",
    "        return -1\n",
    "    \n",
    "    dot = 0\n",
    "    for i in range(len(x)):\n",
    "        dot += x[i] * y[i]\n",
    "    return dot\n",
    "\n",
    "def my_cosSimilarity(x, y):\n",
    "    return my_dot(x, y) / (my_norm(x) * my_norm(y))"
   ]
  },
  {
   "cell_type": "code",
   "execution_count": null,
   "metadata": {},
   "outputs": [],
   "source": [
    "#Q1d\n",
    "Bob = A1[0,:]\n",
    "Alice = A1[1,:]\n",
    "\n",
    "print(\"BOB:\\n\", \"My norm: \", my_norm(Bob), \"\\nNumpy norm: \", la.norm(Bob), sep=\"\", end=\"\\n\\n\")\n",
    "print(\"ALICE:\\n\", \"My norm: \", my_norm(Alice), \"\\nNumpy norm: \", la.norm(Alice), sep=\"\", end=\"\\n\\n\")\n",
    "print(\"DOT:\\n\", \"My dot: \", my_dot(Bob, Alice), \"\\nNumpy dot: \", np.dot(Bob, Alice), sep=\"\", end=\"\\n\\n\")\n",
    "print(\"Cosine Similarity:\", my_cosSimilarity(Bob, Alice))"
   ]
  },
  {
   "cell_type": "code",
   "execution_count": null,
   "metadata": {},
   "outputs": [],
   "source": [
    "#Q1e\n",
    "A1_norm = np.zeros(A1.shape)\n",
    "(people, features) = A1.shape\n",
    "for i in range(people):\n",
    "    A1_norm[i] = A1[i]\n",
    "    A1_norm[i] /= my_norm(A1[i])\n",
    "\n",
    "print(\"A1_norm:\\n\", A1_norm, sep=\"\")"
   ]
  },
  {
   "cell_type": "code",
   "execution_count": null,
   "metadata": {},
   "outputs": [],
   "source": [
    "#Q1f\n",
    "Bob = A1_norm[0,:]\n",
    "Alice = A1_norm[1,:]\n",
    "\n",
    "print(\"BOB:\\n\", \"My norm: \", my_norm(Bob), \"\\nNumpy norm: \", la.norm(Bob), sep=\"\", end=\"\\n\\n\")\n",
    "print(\"ALICE:\\n\", \"My norm: \", my_norm(Alice), \"\\nNumpy norm: \", la.norm(Alice), sep=\"\", end=\"\\n\\n\")\n",
    "print(\"DOT:\\n\", \"My dot: \", my_dot(Bob, Alice), \"\\nNumpy dot: \", np.dot(Bob, Alice), sep=\"\", end=\"\\n\\n\")\n",
    "print(\"Cosine Similarity:\", my_cosSimilarity(Bob, Alice))"
   ]
  },
  {
   "cell_type": "code",
   "execution_count": null,
   "metadata": {},
   "outputs": [],
   "source": [
    "#Q1g\n",
    "Unknown = A1_norm[4,:]\n",
    "similarity_vector = np.zeros(4)\n",
    "for i in range(4):\n",
    "    person = A1_norm[i,:]\n",
    "    similarity_vector[i] = my_cosSimilarity(Unknown, person)\n",
    "    \n",
    "print(\"Similarity Vector:\", similarity_vector)"
   ]
  },
  {
   "cell_type": "code",
   "execution_count": null,
   "metadata": {},
   "outputs": [],
   "source": [
    "#Q1h\n",
    "\n",
    "# Person 3 is the most similar to the unknown person because\n",
    "# his similarity vector with the unknown person is the highest."
   ]
  },
  {
   "cell_type": "code",
   "execution_count": null,
   "metadata": {},
   "outputs": [],
   "source": [
    "#Q2a\n",
    "\n",
    "A = np.array([[1, 1, 1],\n",
    "             [1, 1, 1],\n",
    "             [1, 1, -1],\n",
    "             [1, -1, -1]], dtype = float)\n",
    "\n",
    "B = np.array([[3, -1, -1/2],\n",
    "             [1, 2, -2],\n",
    "             [1, 1, 7/2],\n",
    "             [0, 1, 0]], dtype = float)\n",
    "\n",
    "def orth_set(matrix):\n",
    "    QTQ = matrix.T @ matrix\n",
    "\n",
    "    (rows, n) = matrix.shape\n",
    "    for i in range(n):\n",
    "        for j in range(n):\n",
    "            if i != j:\n",
    "                if QTQ[i][j] != 0:\n",
    "                    return False\n",
    "    \n",
    "    return True\n",
    "    \n",
    "print(\"A:\", orth_set(A))\n",
    "print(\"B:\", orth_set(B))\n",
    "\n",
    "# B's off-diagonal elements of its transpose x itself are all 0, while A's arent't\n",
    "# hence B is orthogonal while A isn't"
   ]
  },
  {
   "cell_type": "code",
   "execution_count": null,
   "metadata": {},
   "outputs": [],
   "source": [
    "#Q2b\n",
    "\n",
    "# Theorem 5:\n",
    "# B is orthogonal so weights in a linear combination can be computed easily\n",
    "# c_j = <y, u_j> / <u_j, u_j>\n",
    "\n",
    "y1 = np.array([2.5, 11, -7.5, 2])\n",
    "\n",
    "def weights_orth(A, b_row):\n",
    "    (rows, cols) = A.shape\n",
    "    x = np.zeros((cols, 1))\n",
    "\n",
    "    for j in range(cols):\n",
    "        u = A[:,j]\n",
    "        c = np.dot(b_row, u) / np.dot(u, u)\n",
    "        x[j] = c\n",
    "    \n",
    "    return x\n",
    "\n",
    "x = weights_orth(B, y1)\n",
    "print(\"x:\\n\", x)\n",
    "    \n",
    "\n"
   ]
  },
  {
   "cell_type": "code",
   "execution_count": null,
   "metadata": {},
   "outputs": [],
   "source": [
    "#Q2c\n",
    "(rows, cols) = A.shape\n",
    "y2 = np.zeros((1, rows)) # y2 is declared as row vector here or np will throw error below\n",
    "weights = [1, 2, -3]\n",
    "\n",
    "for i in range(cols):\n",
    "    ai = A[:,i]\n",
    "    y2 += weights[i] * ai\n",
    "\n",
    "print(\"y2:\", y2, end=\"\\n\\n\")\n",
    "\n",
    "# find x using Theorem 5\n",
    "x = np.zeros((cols, 1))\n",
    "for j in range(cols):\n",
    "    u = A[:,j]\n",
    "    c = np.dot(y2, u) / np.dot(u, u)\n",
    "    x[j] = c\n",
    "\n",
    "print(\"x using Theorem 5:\\n\", x, end=\"\\n\\n\")\n",
    "\n",
    "# Ax\n",
    "Ax = A @ x\n",
    "print(\"Ax:\\n\", Ax)\n",
    "\n",
    "# correct value for x should be [1, 2, -3]"
   ]
  },
  {
   "cell_type": "code",
   "execution_count": null,
   "metadata": {},
   "outputs": [],
   "source": [
    "#Q2d\n",
    "\n",
    "# normalise B\n",
    "BnT = np.zeros(B.shape).T\n",
    "BT = B.T\n",
    "\n",
    "(rows, cols) = B.shape    \n",
    "for i in range(cols):\n",
    "    BnT[i] = BT[i]\n",
    "    BnT[i] /= my_norm(BT[i])\n",
    "    \n",
    "Bn = BnT.T\n",
    "print(\"Bn:\\n\", Bn, sep=\"\", end=\"\\n\\n\")\n",
    "\n",
    "# show Bn is an orthonormal set\n",
    "qtq_raw = BnT @ Bn\n",
    "qtq = np.around(qtq_raw, 2)\n",
    "print(\"Result of Bn transposed x Bn is an identity matrix:\\n\", qtq,\\\n",
    "     \"\\nhence Bn is an orthonormal set\", sep=\"\", end=\"\\n\\n\")\n",
    "\n",
    "# solve y1 = Bn * xn\n",
    "xn = weights_orth(Bn, y1)\n",
    "print(\"xn:\\n\", xn, sep=\"\")\n",
    "\n",
    "# each of xn's weights are the corresponding x's weights * length of B's corresponding columns"
   ]
  },
  {
   "cell_type": "code",
   "execution_count": null,
   "metadata": {},
   "outputs": [],
   "source": [
    "#Q2e\n",
    "\n",
    "# projection of y1 on cols of B\n",
    "(rows, cols) = B.shape\n",
    "proj_B_y1 = np.zeros((cols, rows))\n",
    "\n",
    "for i in range(cols):\n",
    "    u = B[:,i]\n",
    "    proj_B_y1[i] = ((np.dot(y1, u) / np.dot(u, u)) * u)\n",
    "    print(f\"proj_B_y1 for column {i+1}:\\n\", proj_B_y1[i], sep=\"\", end=\"\\n\\n\")\n",
    "\n",
    "# error for each column = perpendicular dist. from y1 to projection\n",
    "error = np.zeros(cols)\n",
    "for i in range(cols):\n",
    "    zi = y1 - proj_B_y1[i]\n",
    "    error[i] = la.norm(zi)\n",
    "    print(f\"Error for column {i+1}:\\n\", error[i], sep=\"\", end=\"\\n\\n\")\n",
    "    \n",
    "# order of importance of Bn columns to approximate y1:\n",
    "# lowest error to highest -> 3, 2, 1"
   ]
  },
  {
   "cell_type": "code",
   "execution_count": null,
   "metadata": {},
   "outputs": [],
   "source": [
    "#Q2f\n",
    "(cols, rows) = proj_B_y1.shape\n",
    "least_error = (0, 0, 1000)\n",
    "\n",
    "for i in range(cols):\n",
    "    for j in range(cols):\n",
    "        if i == j:\n",
    "            continue\n",
    "        appx = proj_B_y1[i] + proj_B_y1[j]\n",
    "        z = y1 - appx\n",
    "        error = (i+1, j+1, la.norm(z))\n",
    "        \n",
    "        if error[2] < least_error[2]:\n",
    "            least_error = error\n",
    "\n",
    "print(f\"Columns {least_error[0]} and {least_error[1]} of B should be chosen.\\nResidual error: {least_error[2]}\")"
   ]
  },
  {
   "cell_type": "code",
   "execution_count": null,
   "metadata": {},
   "outputs": [],
   "source": [
    "#Q3a\n",
    "\n",
    "def qr_gram_schmidt(A):\n",
    "    # The QR factorization using the classical Gram Schmidt process.\n",
    "    # Input: an arbitrary mxp matrix.\n",
    "    # Output: the Q and R factors of the input.\n",
    "\n",
    "    # Obtain the column number.\n",
    "    p = A.shape[1]\n",
    "\n",
    "    # Initiate the Q and R factors.\n",
    "    Q = A.copy() # Prevent A from being changed.\n",
    "    R = np.zeros((p, p))\n",
    "\n",
    "    # Iterate for each column of the input.\n",
    "    for k in range(p):\n",
    "        w = A[:, k]\n",
    "        \n",
    "        ##### Different part. #####\n",
    "        for i in range(k):\n",
    "            R[i, k] = Q[:, i].dot(w)\n",
    "\n",
    "        for i in range(k):\n",
    "            w = w - R[i, k] * Q[:, i]\n",
    "        ###########################\n",
    "        \n",
    "        R[k, k] = la.norm(w)\n",
    "        Q[:, k] = w / R[k, k]\n",
    "\n",
    "    return Q, R\n",
    "\n",
    "Q, R = qr_gram_schmidt(A)\n",
    "print(\"Q:\\n\", Q, \"\\n\\nR:\\n\", R, sep=\"\")"
   ]
  },
  {
   "cell_type": "code",
   "execution_count": null,
   "metadata": {},
   "outputs": [],
   "source": [
    "#Q3b \n",
    "# Characteristics of columns of Q:\n",
    "# n-i rows in each column i are identical, starting from the top row\n",
    "# where n is the total number of rows\n",
    "\n",
    "print(\"Q'*Q:\\n\", np.around(Q.T @ Q, 6),\\\n",
    "      \"\\n\\nQ*Q':\\n\", np.around(Q @ Q.T, 6), sep=\"\", end=\"\\n\\n\")\n",
    "\n",
    "# Q*Q' is the projection matrix with column space of A\n",
    "# aka. Q*Q' * [any vector] to project the vector onto A"
   ]
  },
  {
   "cell_type": "code",
   "execution_count": null,
   "metadata": {},
   "outputs": [],
   "source": [
    "#Q3c\n",
    "print(\"rank of A:\", la.matrix_rank(A))"
   ]
  },
  {
   "cell_type": "code",
   "execution_count": null,
   "metadata": {},
   "outputs": [],
   "source": [
    "#Q3d\n",
    "aug_matrix = np.hstack((A,Q))\n",
    "print(\"rank of [A Q]:\", la.matrix_rank(aug_matrix))\n",
    "\n",
    "# rank of [A Q] is the same as rank of A\n",
    "# implies that Q has the same column space as A"
   ]
  },
  {
   "cell_type": "code",
   "execution_count": null,
   "metadata": {},
   "outputs": [],
   "source": [
    "#Q3e\n",
    "def proj_bySum(U, y):\n",
    "    (m, n) = U.shape\n",
    "    p = np.zeros(m)\n",
    "    \n",
    "    for i in range(n):\n",
    "        u = U[:,i]\n",
    "        p += np.dot(y, u) * u\n",
    "    \n",
    "    return p\n",
    "\n",
    "def proj_byP(U, y):\n",
    "    P = U @ U.T\n",
    "    return P @ y\n",
    "    "
   ]
  },
  {
   "cell_type": "code",
   "execution_count": null,
   "metadata": {},
   "outputs": [],
   "source": [
    "#Q3f\n",
    "y = np.array([1, 2, 3, 4])\n",
    "\n",
    "p1 = proj_bySum(Q, y)\n",
    "p2 = proj_byP(Q, y)\n",
    "\n",
    "print(\"Method 1: proj = (y.u1)u1 + ... + (y.up)up\\np =\", p1, end=\"\\n\\n\")\n",
    "print(\"Method 2: proj = UU^Ty\\np =\", p2, end=\"\\n\\n\")\n",
    "\n",
    "z = y - p1\n",
    "error = la.norm(y - p1)\n",
    "print(\"Error:\", error)"
   ]
  },
  {
   "cell_type": "code",
   "execution_count": null,
   "metadata": {},
   "outputs": [],
   "source": []
  }
 ],
 "metadata": {
  "kernelspec": {
   "display_name": "Python 3",
   "language": "python",
   "name": "python3"
  },
  "language_info": {
   "codemirror_mode": {
    "name": "ipython",
    "version": 3
   },
   "file_extension": ".py",
   "mimetype": "text/x-python",
   "name": "python",
   "nbconvert_exporter": "python",
   "pygments_lexer": "ipython3",
   "version": "3.8.5"
  }
 },
 "nbformat": 4,
 "nbformat_minor": 4
}
