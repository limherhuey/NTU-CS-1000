{
 "cells": [
  {
   "cell_type": "markdown",
   "metadata": {
    "colab_type": "text",
    "id": "A70boHOFYVsZ"
   },
   "source": [
    "# NTU CX1104 Linear Algebra for Computing \n",
    "### Quiz ID : Lab 3 Quiz \n",
    "\n",
    "Please read the below instructions carefully.  \n",
    "1) Answer all questions within 2 hours given in the lab.  \n",
    "2) **IMPORTANT**: Your answers will be submitted virtually. Initialize a dictionary in your python notebook or script. \n",
    "\n",
    "You will have to store your answers in this dictionary using the provided keys in each part.  For example. `results[‘my_norm’] = my_norm` , or `results[‘1a’] = 123` . Failure to follow this convention may result in loss of marks. There is an example question below.\n",
    "\n",
    "All neccessary code for submission will be provided below, there should be no need to modify the provided code. Run the sanity check to at the end to verify your dictionary\n",
    "\n",
    "3) **Once you finish the quiz**, \n",
    "1. Pickle your result dictionary and save it as U1234567A_dict.pkl. The code is at the end\n",
    "2. Get ready this jupyter notebook with your answers along with the pickled file.\n",
    "3. Look for your TA to submit the pickle file and jupyter notebook. \n"
   ]
  },
  {
   "cell_type": "code",
   "execution_count": null,
   "metadata": {
    "colab": {},
    "colab_type": "code",
    "executionInfo": {
     "elapsed": 733,
     "status": "ok",
     "timestamp": 1599487173621,
     "user": {
      "displayName": "Andrew",
      "photoUrl": "",
      "userId": "11550368507075028834"
     },
     "user_tz": -480
    },
    "id": "SjEmO2vx0Yyq"
   },
   "outputs": [],
   "source": [
    "'''\n",
    "RUN THIS CODE BLOCK ONCE AT THE START. DO NOT MODIFY IT OTHERWISE\n",
    "'''\n",
    "import dill\n",
    "dill.load_session('quiz3_FS2.db')"
   ]
  },
  {
   "cell_type": "code",
   "execution_count": null,
   "metadata": {},
   "outputs": [],
   "source": [
    "#pandas version >= 1.1.1\n",
    "pd.__version__"
   ]
  },
  {
   "cell_type": "code",
   "execution_count": null,
   "metadata": {},
   "outputs": [],
   "source": [
    "#dill version >= 0.3.2\n",
    "dill.__version__"
   ]
  },
  {
   "cell_type": "markdown",
   "metadata": {
    "colab_type": "text",
    "id": "_qdLOw3tb1VJ"
   },
   "source": [
    "# Initialize your results dictionary with your name, matric number, and quiz version.\n",
    "Your quiz version is indicated on your .db file."
   ]
  },
  {
   "cell_type": "code",
   "execution_count": null,
   "metadata": {
    "colab": {},
    "colab_type": "code",
    "executionInfo": {
     "elapsed": 790,
     "status": "ok",
     "timestamp": 1599487176964,
     "user": {
      "displayName": "Andrew",
      "photoUrl": "",
      "userId": "11550368507075028834"
     },
     "user_tz": -480
    },
    "id": "w2WPtSul0Yyn",
    "scrolled": true
   },
   "outputs": [],
   "source": [
    "results = {'name': 'name', 'matric_no': 'mn', 'quiz_version': 'FS2'}\n",
    "print(results)"
   ]
  },
  {
   "cell_type": "markdown",
   "metadata": {
    "colab_type": "text",
    "id": "_qdLOw3tb1VJ"
   },
   "source": [
    "### The question below provides an example code snippet on how you should be saving your results using the dictionary keys. Please read through carefully.\n",
    "\n",
    "# Example Question\n",
    "\n",
    "a. Write a function called ex_func that divides the input x by 2.  \n",
    "b. Use ex_func to solve `y = 10/2`  \n",
    "c. What is name of the University you are at? Choose your answer from the MCQ below.\n",
    "\n",
    "1. NUS\n",
    "2. SMU\n",
    "3. NTU\n",
    "\n",
    "d. Which indexes in this array `[3,1,2,4,5]` contains the smallest two values. Give your answers using python indexing. (python indexing starts from 0 and not 1.)\n",
    "\n",
    "Dictionary Keys = `exqn_a:ex_func`, `exqn_b:y`, `exqn_c:mcq`, `exqn_d:idxs`"
   ]
  },
  {
   "cell_type": "code",
   "execution_count": null,
   "metadata": {},
   "outputs": [],
   "source": [
    "def ex_func(x):\n",
    "    return x/2\n",
    "\n",
    "answer = ex_func(10)\n",
    "\n",
    "results['exqn_a:ex_func'] = ex_func\n",
    "results['exqn_b:y'] = answer\n",
    "results['exqn_c:mcq'] = 3\n",
    "results['exqn_d:idxs'] = [1,2]"
   ]
  },
  {
   "cell_type": "markdown",
   "metadata": {
    "colab_type": "text",
    "id": "7vydAnRk0Yys"
   },
   "source": [
    "# Start of the Lab\n",
    "# Question 1"
   ]
  },
  {
   "cell_type": "markdown",
   "metadata": {
    "colab_type": "text",
    "id": "81X4HTSId-gj"
   },
   "source": [
    "Suppose that the data base has personal data for four persons. We are required to develop a simple identification recognition system by utilizing norm and dot product. The system should be able to identify who the unknown person is accordingly.\n"
   ]
  },
  {
   "cell_type": "code",
   "execution_count": null,
   "metadata": {
    "colab": {
     "base_uri": "https://localhost:8080/",
     "height": 204
    },
    "colab_type": "code",
    "executionInfo": {
     "elapsed": 870,
     "status": "ok",
     "timestamp": 1599487185494,
     "user": {
      "displayName": "Andrew",
      "photoUrl": "",
      "userId": "11550368507075028834"
     },
     "user_tz": -480
    },
    "id": "gDNyOrUBgpjS",
    "outputId": "56bec7a7-5d3f-4805-c196-1d852efc9a96"
   },
   "outputs": [],
   "source": [
    "A1_df"
   ]
  },
  {
   "cell_type": "markdown",
   "metadata": {
    "colab_type": "text",
    "id": "KBvMpEjlgt20"
   },
   "source": [
    "Follow the steps below to achieve this goal.\n",
    "\n"
   ]
  },
  {
   "cell_type": "markdown",
   "metadata": {
    "colab_type": "text",
    "id": "hjLP1Y4c0Yyv"
   },
   "source": [
    "### Q1a \n",
    "Initialize the 5×4 data matrix A1 from Table 1 using numpy.array([[]],dtype=float). Implement your own functions for norm and dot product. Name your functions my_norm() and my_dot(). \n",
    "\n",
    "Dictionary Keys = `Q1a:A1`, `Q1a:my_norm`, `Q1a:my_dot`"
   ]
  },
  {
   "cell_type": "code",
   "execution_count": null,
   "metadata": {},
   "outputs": [],
   "source": [
    "#your working here\n",
    "A1 = np.array([[95.0, 185.0, 70.0, 37.1],\n",
    "                [98.0, 179.0, 66.0, 37.9],\n",
    "                [61.0, 164.0, 65.0, 37.0],\n",
    "                [98.0, 183.0, 61.0, 37.0],\n",
    "                [89.0, 188.0, 61.0, 37.8]], dtype = float)\n",
    "print(A1)\n",
    "\n",
    "def my_dot(x, y):\n",
    "    if len(x) != len(y):\n",
    "        print(\"Array have different dimensions, error.\")\n",
    "        return -1\n",
    "    \n",
    "    dot = 0\n",
    "    for i in range(len(x)):\n",
    "        dot += x[i] * y[i]\n",
    "    return dot\n",
    "\n",
    "def my_norm(x):\n",
    "    sum = 0\n",
    "    for i in range(len(x)):\n",
    "        sum += x[i] ** 2\n",
    "    return np.sqrt(sum)\n",
    "\n",
    "#your answers to 1a\n",
    "results['Q1a:A1'] = A1\n",
    "results['Q1a:my_dot'] = my_dot\n",
    "results['Q1a:my_norm'] = my_norm"
   ]
  },
  {
   "cell_type": "markdown",
   "metadata": {
    "colab_type": "text",
    "id": "KXjycZFeiRAU"
   },
   "source": [
    "### 1b\n",
    "Using my_dot, calculate the dot product between each person and the Unknown person in the provided matrix. According to the dot product, which person is most similar to the Unknown person?  Use python indexing to report your answer.\n",
    "\n",
    "Dictionary Keys = `Q1b:most_similar`"
   ]
  },
  {
   "cell_type": "code",
   "execution_count": null,
   "metadata": {},
   "outputs": [],
   "source": [
    "#your working here\n",
    "(people, features) = A1.shape\n",
    "unknown = A1[4]\n",
    "most_similar = (0, 0)\n",
    "for i in range(people - 1):\n",
    "    person = A1[i]\n",
    "    dot = my_dot(unknown, person)\n",
    "    if dot > most_similar[1]:\n",
    "        most_similar = (i, dot)\n",
    "    print(f\"Dot with Person {i}:\", dot)\n",
    "    \n",
    "print(most_similar)\n",
    "\n",
    "#your answers to 1b\n",
    "results['Q1b:most_similar'] = most_similar[0]"
   ]
  },
  {
   "cell_type": "markdown",
   "metadata": {
    "colab_type": "text",
    "id": "KXjycZFeiRAU"
   },
   "source": [
    "### 1c\n",
    "Using my_norm, calculate the Euclidean distance between each person and the Unknown person in the provided matrix. According to the Euclidean distance, which person is most similar to the Unknown person? Use python indexing to report your answer.\n",
    "\n",
    "Dictionary Keys = `Q1c:most_similar`"
   ]
  },
  {
   "cell_type": "code",
   "execution_count": null,
   "metadata": {},
   "outputs": [],
   "source": [
    "#your working here\n",
    "most_similar2 = (0, 1000)\n",
    "for i in range(people - 1):\n",
    "    person = A1[i]\n",
    "    diff = person - unknown\n",
    "    norm = my_norm(diff)\n",
    "    if norm < most_similar2[1]:\n",
    "        most_similar2 = (i, norm)\n",
    "    print(f\"Distance from person {i}:\", norm)\n",
    "\n",
    "print(most_similar2)\n",
    "    \n",
    "#your answers to 1c\n",
    "results['Q1c:most_similar'] = most_similar2[0]\n"
   ]
  },
  {
   "cell_type": "markdown",
   "metadata": {
    "colab_type": "text",
    "id": "KXjycZFeiRAU"
   },
   "source": [
    "### 1d\n",
    "Using both my_norm and my_dot, calculate the cosine distance between each person and the Unknown person in the provided matrix. According to the cosine distance, which person is most similar to the Unknown person? Use python indexing to report your answer.\n",
    "\n",
    "Dictionary Keys = `Q1d:most_similar`"
   ]
  },
  {
   "cell_type": "code",
   "execution_count": null,
   "metadata": {},
   "outputs": [],
   "source": [
    "#your working here\n",
    "most_similar3 = (0, 0)\n",
    "for i in range(people - 1):\n",
    "    person = A1[i]\n",
    "    cosSim = my_dot(unknown, person) / (my_norm(unknown) * my_norm(person))\n",
    "    if cosSim > most_similar3[1]:\n",
    "        most_similar3 = (i, cosSim)\n",
    "    print(f\"Cosine similarity with person {i}:\", cosSim)\n",
    "\n",
    "print(most_similar3)\n",
    "\n",
    "#your answers to 1d\n",
    "results['Q1d:most_similar'] = most_similar3[0]"
   ]
  },
  {
   "cell_type": "markdown",
   "metadata": {
    "colab_type": "text",
    "id": "DJguCNW30Yy8"
   },
   "source": [
    "# Q2\n"
   ]
  },
  {
   "cell_type": "code",
   "execution_count": null,
   "metadata": {
    "colab": {},
    "colab_type": "code",
    "executionInfo": {
     "elapsed": 1079,
     "status": "aborted",
     "timestamp": 1599487167169,
     "user": {
      "displayName": "Andrew",
      "photoUrl": "",
      "userId": "11550368507075028834"
     },
     "user_tz": -480
    },
    "id": "w80CC2ufkhXG"
   },
   "outputs": [],
   "source": [
    "#this is your A\n",
    "print('A =\\n', A2)"
   ]
  },
  {
   "cell_type": "markdown",
   "metadata": {
    "colab_type": "text",
    "id": "v5fRAcSrxchJ"
   },
   "source": [
    "### Q2a\n",
    "a) In the Lab Manual you have been asked to implement the Gram-Schmidt process for QR factorization. Apply it (either the classical or modified version is okay) on A so that A=QR. Report the Q and R factors you obtained. \n",
    "\n",
    "Dictionary Keys = `Q2a:Q`, `Q2a:R`"
   ]
  },
  {
   "cell_type": "code",
   "execution_count": null,
   "metadata": {
    "colab": {},
    "colab_type": "code",
    "executionInfo": {
     "elapsed": 1077,
     "status": "aborted",
     "timestamp": 1599487167169,
     "user": {
      "displayName": "Andrew",
      "photoUrl": "",
      "userId": "11550368507075028834"
     },
     "user_tz": -480
    },
    "id": "T5a58qLG0YzA"
   },
   "outputs": [],
   "source": [
    "#your working here\n",
    "def qr_gram_schmidt(A):\n",
    "    # The QR factorization using the classical Gram Schmidt process.\n",
    "    # Input: an arbitrary mxp matrix.\n",
    "    # Output: the Q and R factors of the input.\n",
    "\n",
    "    # Obtain the column number.\n",
    "    p = A.shape[1]\n",
    "\n",
    "    # Initiate the Q and R factors.\n",
    "    Q = A.copy() # Prevent A from being changed.\n",
    "    R = np.zeros((p, p))\n",
    "\n",
    "    # Iterate for each column of the input.\n",
    "    for k in range(p):\n",
    "        w = A[:, k]\n",
    "        \n",
    "        ##### Different part. #####\n",
    "        for i in range(k):\n",
    "            R[i, k] = Q[:, i].dot(w)\n",
    "\n",
    "        for i in range(k):\n",
    "            w = w - R[i, k] * Q[:, i]\n",
    "        ###########################\n",
    "        \n",
    "        R[k, k] = la.norm(w)\n",
    "        Q[:, k] = w / R[k, k]\n",
    "\n",
    "    return Q, R\n",
    "\n",
    "Q, R = qr_gram_schmidt(A2)\n",
    "print(\"Q:\\n\", Q, \"\\n\\nR:\\n\", R, sep=\"\")\n",
    "\n",
    "#your answers to 2a\n",
    "results['Q2a:Q'] = Q\n",
    "results['Q2a:R'] = R"
   ]
  },
  {
   "cell_type": "markdown",
   "metadata": {
    "colab_type": "text",
    "id": "jVBxxC460YzC"
   },
   "source": [
    "### Q2b\n",
    "A column is added to A2 to form a new matrix A2_v2. Check the rank of both A2 and A2_v2\n",
    "\n",
    "Dictionary Keys = `Q2b:A2_rank`, `Q2b:A2_v2_rank`"
   ]
  },
  {
   "cell_type": "code",
   "execution_count": null,
   "metadata": {},
   "outputs": [],
   "source": [
    "A2_v2"
   ]
  },
  {
   "cell_type": "code",
   "execution_count": null,
   "metadata": {
    "colab": {},
    "colab_type": "code",
    "executionInfo": {
     "elapsed": 1074,
     "status": "aborted",
     "timestamp": 1599487167170,
     "user": {
      "displayName": "Andrew",
      "photoUrl": "",
      "userId": "11550368507075028834"
     },
     "user_tz": -480
    },
    "id": "I-WwnEq80YzE"
   },
   "outputs": [],
   "source": [
    "#your working here\n",
    "import numpy.linalg as la\n",
    "\n",
    "rank_A2 = la.matrix_rank(A2)\n",
    "rank_A2_v2 = la.matrix_rank(A2_v2)\n",
    "\n",
    "print(\"rank of A2: \", rank_A2, \"\\nrank of A2_v2: \", rank_A2_v2, sep=\"\")\n",
    "\n",
    "\n",
    "#your answers to 2b\n",
    "results['Q2b:A2_rank'] = rank_A2\n",
    "results['Q2b:A2_v2_rank'] = rank_A2_v2"
   ]
  },
  {
   "cell_type": "markdown",
   "metadata": {
    "colab_type": "text",
    "id": "JHTvt0EW0YzE"
   },
   "source": [
    "## Q2c\n",
    "Find the projection of `Q2_y` shown below onto the columns of A2 and approximate the random vector. What happens when we use more and more columns of A2 to approximate `Q2_y`? Choose from the numbered choices below.\n",
    "\n",
    "1. Nothing happens\n",
    "2. The error gets lower\n",
    "3. The error gets higher.\n",
    "\n",
    "Dictionary Keys = `Q2c:mcq`"
   ]
  },
  {
   "cell_type": "code",
   "execution_count": null,
   "metadata": {},
   "outputs": [],
   "source": [
    "#This is your Q2_y\n",
    "Q2_y"
   ]
  },
  {
   "cell_type": "code",
   "execution_count": null,
   "metadata": {},
   "outputs": [],
   "source": [
    "#your working here\n",
    "P = Q @ Q.T\n",
    "proj = P @ Q2_y\n",
    "\n",
    "print(proj)\n",
    "\n",
    "#your answers to 2c\n",
    "results['Q2c:mcq'] = 2"
   ]
  },
  {
   "cell_type": "markdown",
   "metadata": {
    "colab_type": "text",
    "id": "JHTvt0EW0YzE"
   },
   "source": [
    "## Q2d\n",
    "Which 2 columns from A2 gives us the best approximation?  Use python indexing to report your answer.\n",
    "\n",
    "Dictionary Keys = `Q2d:cols`, `Q2d:error`\n"
   ]
  },
  {
   "cell_type": "code",
   "execution_count": null,
   "metadata": {},
   "outputs": [],
   "source": [
    "#your working here\n",
    "(rows, cols) = Q.shape\n",
    "p = np.zeros((cols, rows))\n",
    "\n",
    "for i in range(cols):\n",
    "    u = Q[:,i]\n",
    "    p[i] = ((np.dot(Q2_y.T, u) / np.dot(u, u)) * u)\n",
    "    print(f\"p for column {i}:\\n\", p[i], sep=\"\", end=\"\\n\\n\")\n",
    "\n",
    "least_error = (0, 0, 1000)\n",
    "for i in range(cols):\n",
    "    for j in range(cols):\n",
    "        if i == j:\n",
    "            continue\n",
    "        appx = p[i] + p[j]\n",
    "        z = Q2_y - appx\n",
    "        error = (i, j, la.norm(z))\n",
    "        \n",
    "        if error[2] < least_error[2]:\n",
    "            least_error = error\n",
    "\n",
    "print(f\"Columns {least_error[0]} and {least_error[1]} should be chosen.\\nResidual error: {least_error[2]}\")\n",
    "\n",
    "#your answers to 2d\n",
    "results['Q2d:cols'] = [least_error[0], least_error[1]]\n",
    "results['Q2d:error'] = least_error[2]"
   ]
  },
  {
   "cell_type": "markdown",
   "metadata": {
    "colab_type": "text",
    "id": "JHTvt0EW0YzE"
   },
   "source": [
    "## 3\n",
    "Given a matrix `A3` = 10x5 (random), = 10x1 vector, find the best 1, 2 and 3 columns of A to approximate `q3_y`. Give your 3 best column numbers using python indexing (python indexing starts from 0).\n",
    "Calculate the residual error. \n",
    "\n",
    "Dictionary Keys = `Q3:cols`, `Q3:error`\n"
   ]
  },
  {
   "cell_type": "code",
   "execution_count": null,
   "metadata": {},
   "outputs": [],
   "source": [
    "print('A3:\\n', A3)"
   ]
  },
  {
   "cell_type": "code",
   "execution_count": null,
   "metadata": {},
   "outputs": [],
   "source": [
    "print('q3_y:\\n', Q3_y)"
   ]
  },
  {
   "cell_type": "code",
   "execution_count": null,
   "metadata": {},
   "outputs": [],
   "source": [
    "#your working here\n",
    "Q3, R3 = qr_gram_schmidt(A3)\n",
    "\n",
    "(rows, cols) = Q3.shape\n",
    "p3 = np.zeros((cols, rows))\n",
    "\n",
    "for i in range(cols):\n",
    "    u = Q3[:,i]\n",
    "    p3[i] = ((np.dot(Q3_y.T, u) / np.dot(u, u)) * u)\n",
    "    print(f\"p for column {i}:\\n\", p3[i], sep=\"\", end=\"\\n\\n\")\n",
    "\n",
    "least_error = (0, 0, 0, 1000)\n",
    "for i in range(cols):\n",
    "    for j in range(cols):\n",
    "        for k in range(cols):\n",
    "            if i == j or j == k or i == k:\n",
    "                continue\n",
    "            appx = p3[i] + p3[j] + p3[k]\n",
    "            z = Q3_y - appx\n",
    "            error = (i, j, k, la.norm(z))\n",
    "\n",
    "            if error[3] < least_error[3]:\n",
    "                least_error = error\n",
    "\n",
    "print(f\"Columns {least_error[0]}, {least_error[1]}, and {least_error[2]} should be chosen.\\nResidual error: {least_error[3]}\")\n",
    "\n",
    "#your answers to 3\n",
    "results['Q3:cols'] = [least_error[0], least_error[1], least_error[2]]\n",
    "results['Q3:error'] = least_error[3]"
   ]
  },
  {
   "cell_type": "markdown",
   "metadata": {
    "colab_type": "text",
    "id": "Rtggss1cxwas"
   },
   "source": [
    "# SANITY CHECKS\n",
    "Run the code blocks below to ensure your answers are stored properly.\n",
    "1. double check your answer using the print command. (the functions should look like <function my_func at 0x00000>)\n",
    "2. Ensure the number of keys in your dictionary equals to 22\n",
    "3. Check that the dictionary keys are all accounted for"
   ]
  },
  {
   "cell_type": "code",
   "execution_count": null,
   "metadata": {
    "colab": {},
    "colab_type": "code",
    "executionInfo": {
     "elapsed": 1063,
     "status": "aborted",
     "timestamp": 1599487167171,
     "user": {
      "displayName": "Andrew",
      "photoUrl": "",
      "userId": "11550368507075028834"
     },
     "user_tz": -480
    },
    "id": "RCkumvd6x7LI"
   },
   "outputs": [],
   "source": [
    "#first check\n",
    "print(results)"
   ]
  },
  {
   "cell_type": "code",
   "execution_count": null,
   "metadata": {
    "colab": {},
    "colab_type": "code",
    "executionInfo": {
     "elapsed": 1062,
     "status": "aborted",
     "timestamp": 1599487167171,
     "user": {
      "displayName": "Andrew",
      "photoUrl": "",
      "userId": "11550368507075028834"
     },
     "user_tz": -480
    },
    "id": "rd8XJ9MzZPGp"
   },
   "outputs": [],
   "source": [
    "#second check\n",
    "len(results.keys()) \n"
   ]
  },
  {
   "cell_type": "code",
   "execution_count": null,
   "metadata": {
    "colab": {},
    "colab_type": "code",
    "executionInfo": {
     "elapsed": 1062,
     "status": "aborted",
     "timestamp": 1599487167172,
     "user": {
      "displayName": "Andrew",
      "photoUrl": "",
      "userId": "11550368507075028834"
     },
     "user_tz": -480
    },
    "id": "ROwoxNLDGwAf"
   },
   "outputs": [],
   "source": [
    "#third check\n",
    "keys = list(results.keys())\n",
    "keys.sort()\n",
    "keys == ['Q1a:A1', 'Q1a:my_dot', 'Q1a:my_norm', 'Q1b:most_similar', 'Q1c:most_similar', 'Q1d:most_similar', 'Q2a:Q', 'Q2a:R', 'Q2b:A2_rank', 'Q2b:A2_v2_rank', 'Q2c:mcq', 'Q2d:cols', 'Q2d:error', 'Q3:cols', 'Q3:error', 'exqn_a:ex_func', 'exqn_b:y', 'exqn_c:mcq', 'exqn_d:idxs', 'matric_no', 'name', 'quiz_version']"
   ]
  },
  {
   "cell_type": "markdown",
   "metadata": {
    "colab_type": "text",
    "id": "517Gtl6wzhVW"
   },
   "source": [
    "# Change the pickle file path to whereever you want to save the file. The name of the file should be `{your_matric}_dict.dill` You will have to submit this file and this notebook"
   ]
  },
  {
   "cell_type": "code",
   "execution_count": null,
   "metadata": {
    "colab": {},
    "colab_type": "code",
    "executionInfo": {
     "elapsed": 1056,
     "status": "aborted",
     "timestamp": 1599487167172,
     "user": {
      "displayName": "Andrew",
      "photoUrl": "",
      "userId": "11550368507075028834"
     },
     "user_tz": -480
    },
    "id": "tKp4UWlZzs-K"
   },
   "outputs": [],
   "source": [
    "dill_file_path= 'mn_dict.dill'\n",
    "\n",
    "with open(dill_file_path,'wb') as f:\n",
    "  dill.dump(results, f)"
   ]
  },
  {
   "cell_type": "code",
   "execution_count": null,
   "metadata": {},
   "outputs": [],
   "source": []
  }
 ],
 "metadata": {
  "colab": {
   "collapsed_sections": [],
   "name": "Lab Quiz 6 Answer Template.ipynb",
   "provenance": []
  },
  "kernelspec": {
   "display_name": "Python 3",
   "language": "python",
   "name": "python3"
  },
  "language_info": {
   "codemirror_mode": {
    "name": "ipython",
    "version": 3
   },
   "file_extension": ".py",
   "mimetype": "text/x-python",
   "name": "python",
   "nbconvert_exporter": "python",
   "pygments_lexer": "ipython3",
   "version": "3.8.3"
  }
 },
 "nbformat": 4,
 "nbformat_minor": 4
}