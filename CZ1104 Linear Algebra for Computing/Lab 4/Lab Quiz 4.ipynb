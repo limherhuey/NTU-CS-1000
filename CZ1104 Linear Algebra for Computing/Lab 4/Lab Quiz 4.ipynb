{
 "cells": [
  {
   "cell_type": "markdown",
   "metadata": {
    "colab_type": "text",
    "id": "A70boHOFYVsZ"
   },
   "source": [
    "# NTU CX1014 Linear Algebra for Computing \n",
    "### Quiz ID : Lab 7 Quiz \n",
    "\n",
    "Please read the below instructions carefully.  \n",
    "1) Answer all questions within 2 hours given in the lab.  \n",
    "2) **IMPORTANT**: Your answers will be submitted virtually. Initialize a dictionary in your python notebook or script. \n",
    "\n",
    "You will have to store your answers in this dictionary using the provided keys in each part.  For example. `results[‘my_norm’] = my_norm` , or `results[‘1a’] = 123` . Failure to follow this convention may result in loss of marks.  \n",
    "\n",
    "All neccessary code for submission will be provided below, there should be no need to modify the provided code. Run the sanity check to at the end to verify your dictionary\n",
    "\n",
    "3) **Once you finish the quiz**, \n",
    "1. Pickle your result dictionary and save it as U1234567A_dict.pkl. The code is at the end\n",
    "2. Get ready this jupyter notebook with your answers along with the pickled file.\n",
    "3. Look for your TA to submit the pickle file and jupyter notebook. \n"
   ]
  },
  {
   "cell_type": "code",
   "execution_count": null,
   "metadata": {
    "colab": {},
    "colab_type": "code",
    "executionInfo": {
     "elapsed": 733,
     "status": "ok",
     "timestamp": 1599487173621,
     "user": {
      "displayName": "Andrew",
      "photoUrl": "",
      "userId": "11550368507075028834"
     },
     "user_tz": -480
    },
    "id": "SjEmO2vx0Yyq"
   },
   "outputs": [],
   "source": [
    "'''\n",
    "RUN THIS CODE BLOCK ONCE AT THE START. DO NOT MODIFY IT OTHERWISE\n",
    "'''\n",
    "import numpy as np\n",
    "Q1_A = np.array([[6.   , 3.   , 3.6  , 1.2  , 4.2  , 5.49 ],\n",
    "       [8.   , 4.   , 4.8  , 1.6  , 5.6  , 7.32 ],\n",
    "       [9.   , 4.5  , 5.4  , 1.8  , 6.3  , 8.235],\n",
    "       [6.   , 3.   , 3.6  , 1.2  , 4.2  , 5.49 ],\n",
    "       [8.   , 4.   , 4.8  , 1.6  , 5.6  , 7.32 ],\n",
    "       [7.   , 3.5  , 4.2  , 1.4  , 4.9  , 6.405],\n",
    "       [9.   , 4.5  , 5.4  , 1.8  , 6.3  , 8.235],\n",
    "       [3.   , 1.5  , 1.8  , 0.6  , 2.1  , 2.745],\n",
    "       [6.   , 3.   , 3.6  , 1.2  , 4.2  , 5.49 ],\n",
    "       [1.   , 0.5  , 0.6  , 0.2  , 0.7  , 0.915]])\n",
    "\n",
    "Q1_new= np.array([[2.  , 5.  , 5.  , 0.  , 5.  , 1.75],\n",
    "       [0.  , 9.  , 9.  , 3.  , 1.  , 2.7 ],\n",
    "       [7.  , 4.  , 1.  , 1.  , 4.  , 8.55],\n",
    "       [6.  , 7.  , 3.  , 6.  , 9.  , 8.55],\n",
    "       [2.  , 3.  , 0.  , 8.  , 6.  , 4.45]])\n",
    "\n",
    "Q2_A = np.matrix([[0, 0, 2, 4, 0],\n",
    "        [3, 0, 2, 2, 3],\n",
    "        [1, 4, 3, 2, 2],\n",
    "        [3, 4, 3, 0, 0],\n",
    "        [4, 4, 3, 1, 1]])"
   ]
  },
  {
   "cell_type": "markdown",
   "metadata": {
    "colab_type": "text",
    "id": "_qdLOw3tb1VJ"
   },
   "source": [
    "# Initialize your results dictionary with your name, matric number, and quiz version.\n",
    "Your quiz version is indicated on your .db file."
   ]
  },
  {
   "cell_type": "code",
   "execution_count": null,
   "metadata": {
    "colab": {},
    "colab_type": "code",
    "executionInfo": {
     "elapsed": 790,
     "status": "ok",
     "timestamp": 1599487176964,
     "user": {
      "displayName": "Andrew",
      "photoUrl": "",
      "userId": "11550368507075028834"
     },
     "user_tz": -480
    },
    "id": "w2WPtSul0Yyn",
    "scrolled": true
   },
   "outputs": [],
   "source": [
    "results = {'name': 'name', 'matric_no': 'matric', 'quiz_version': 'FS2'}\n",
    "print(results)"
   ]
  },
  {
   "cell_type": "markdown",
   "metadata": {
    "colab_type": "text",
    "id": "_qdLOw3tb1VJ"
   },
   "source": [
    "### The question below provides an example code snippet on how you should be saving your results using the dictionary keys. Please read through carefully.\n",
    "\n",
    "# Example Question\n",
    "\n",
    "a. Write a function called ex_func that divides the input x by 2.  \n",
    "b. Use ex_func to solve `y = 10/2`  \n",
    "c. What is name of the University you are at? Choose your answer from the MCQ below.\n",
    "\n",
    "1. NUS\n",
    "2. SMU\n",
    "3. NTU\n",
    "\n",
    "d. Which indexes in this array `[9,5,6,7,8]` contains the smallest two values. Give your answers using python indexing. (python indexing starts from 0 and not 1.)  \n",
    "e. Is this quiz easy? Give your answer as a Boolean True/False.\n",
    "\n",
    "Dictionary Keys = `exqn_a:ex_func`, `exqn_b:y`, `exqn_c:mcq`, `exqn_d:idxs`, `exqn_e:ans`"
   ]
  },
  {
   "cell_type": "code",
   "execution_count": null,
   "metadata": {},
   "outputs": [],
   "source": [
    "def ex_func(x):\n",
    "    return x/2\n",
    "\n",
    "answer = ex_func(10)\n",
    "\n",
    "results['exqn_a:ex_func'] = ex_func\n",
    "results['exqn_b:y'] = answer\n",
    "results['exqn_c:mcq'] = 3\n",
    "results['exqn_d:idxs'] = [1,2]\n",
    "results['exqn_e:ans'] = True"
   ]
  },
  {
   "cell_type": "markdown",
   "metadata": {
    "colab_type": "text",
    "id": "7vydAnRk0Yys"
   },
   "source": [
    "# Start of the Lab\n",
    "# Question 1"
   ]
  },
  {
   "cell_type": "markdown",
   "metadata": {
    "colab_type": "text",
    "id": "81X4HTSId-gj"
   },
   "source": [
    "Natflix, a media streaming startup, wants to create a simple recommendation system to recommend new videos to their customers. With the consent of 10 customers, they have collected the customer rating scores for each genre. Natflix wants to be able to predict Romance scores using the customer scores of Horror, Fantasy, Thriller, Comedy, and Drama."
   ]
  },
  {
   "cell_type": "code",
   "execution_count": null,
   "metadata": {
    "scrolled": true
   },
   "outputs": [],
   "source": [
    "'''RUN THIS CELL BLOCK'''\n",
    "print('''\n",
    "The first 5 columns are  Horror, Fantasy, Thriller, Comedy, and Drama;\n",
    "The last column is Romance\n",
    "''')\n",
    "print('Customer scores:\\n', Q1_A)\n",
    "\n"
   ]
  },
  {
   "cell_type": "markdown",
   "metadata": {},
   "source": [
    "The data scientist in Natflix proposes to approximate the Romance scores using this equation: $$Ax = b$$ where A is the scores of Horror, Fantasy, Thriller, Comedy, and Drama; and b are the Romance scores.  \n",
    "As his intern, you are tasked to solve this equation by finding x or alternatively, a least squares solution."
   ]
  },
  {
   "cell_type": "markdown",
   "metadata": {},
   "source": [
    "## 1a\n",
    "Can this equation be solved using the normal equation? Give your answer as a Boolean True/False.\n",
    "\n",
    "Why is this so? Choose from the numbered choices:\n",
    "1. Matrix A is singular, hence inverse AtA exists\n",
    "2. Matrix A is not singular, hence inverse AtA exists\n",
    "3. Matrix A is singular, hence inverse AtA does not exist\n",
    "4. Matrix A is not singular, hence inverse AtA does not exist\n",
    "\n",
    "Dictionary Keys = `Q1a:answer`, `Q1a:mcq`  \n",
    "Refer to the example question if you are unsure about how to format your answer"
   ]
  },
  {
   "cell_type": "code",
   "execution_count": null,
   "metadata": {},
   "outputs": [],
   "source": [
    "#your working here\n",
    "import numpy.linalg as la\n",
    "\n",
    "A = Q1_A[:,:-1]\n",
    "print(\"A:\\n\", A, sep=\"\")\n",
    "(rows, cols) = A.shape\n",
    "\n",
    "rank = la.matrix_rank(A)\n",
    "print(\"A is invertible:\", rank == cols)\n",
    "\n",
    "\n",
    "#your answers to 1a\n",
    "results['Q1a:answer'] = False\n",
    "results['Q1a:mcq'] = 3\n"
   ]
  },
  {
   "cell_type": "markdown",
   "metadata": {},
   "source": [
    "## 1b\n",
    "Using either the normal equation or the pseudo inverse, calculate the least square solution for $x$.  \n",
    "Then, use this solution to calculate the norm of the error.\n",
    "\n",
    "Dictionary Keys = `Q1b:x`, `Q1b:norm_error`  \n",
    "Refer to the example question if you are unsure how to format your answer"
   ]
  },
  {
   "cell_type": "code",
   "execution_count": null,
   "metadata": {},
   "outputs": [],
   "source": [
    "#your working here\n",
    "b = Q1_A[:,-1:]\n",
    "print(\"b:\\n\", b, sep=\"\")\n",
    "\n",
    "pinvA = la.pinv(A)\n",
    "print(\"pinv A:\\n\", pinvA, sep=\"\")\n",
    "\n",
    "x = pinvA @ b\n",
    "print(\"x:\\n\", x, sep=\"\")\n",
    "\n",
    "b_hat = A @ x\n",
    "norm_error = la.norm(b - b_hat)\n",
    "print(\"\\nnorm error:\", norm_error)\n",
    "\n",
    "#your answers to 1b\n",
    "results['Q1b:x'] = x\n",
    "results['Q1b:norm_error'] = norm_error"
   ]
  },
  {
   "cell_type": "markdown",
   "metadata": {},
   "source": [
    "## 1c\n",
    "Natflix obtained a brand new set of data `Q1_new` from further data collection. Using this new set of data, and your previously calculated solution in `1b`, predict the Romance scores for the new data.\n",
    "\n",
    "What is the norm of the error between your calculated Romance scores and the provided Romance scores?\n",
    "\n",
    "Dictionary Keys = `Q1c:predicted_romance_scores` `Q1c:norm_error`  \n",
    "Refer to the example question if you are unsure how to format your answer"
   ]
  },
  {
   "cell_type": "code",
   "execution_count": null,
   "metadata": {
    "scrolled": true
   },
   "outputs": [],
   "source": [
    "#this is your Q1_new\n",
    "Q1_new"
   ]
  },
  {
   "cell_type": "code",
   "execution_count": null,
   "metadata": {},
   "outputs": [],
   "source": [
    "#your working here\n",
    "A_new = Q1_new[:,:-1]\n",
    "b_new = Q1_new[:,-1:]\n",
    "\n",
    "pred_b = A_new @ x\n",
    "print(\"predicted romance scores:\\n\", pred_b, sep=\"\")\n",
    "\n",
    "norm_error_new = la.norm(b_new - pred_b)\n",
    "print(\"norm error:\", norm_error_new)\n",
    "\n",
    "#your answers to 1c\n",
    "results['Q1c:predicted_romance_scores'] = pred_b\n",
    "results['Q1c:norm_error'] = norm_error_new"
   ]
  },
  {
   "cell_type": "markdown",
   "metadata": {},
   "source": [
    "## 1d\n",
    "Assuming you are able to use both the pseudoinverse or the normal equation to solve the above problem, which method would you NOT propose to your boss, and why? Choose from the numbered choices. \n",
    "\n",
    "1. Pseudo-inverse, because the matrix inversion is very slow; O(N3) where N is the number of rows.  \n",
    "2. Pseudo-inverse, because it is numerically unstable\n",
    "3. Normal equation, because the matrix inversion is very slow; O(N3) where N is the number of rows.  \n",
    "4. Normal equation, because it is numerically stable \n",
    "\n",
    "Dictionary Keys: `Q1d:ans`  \n",
    "Refer to the example question if you are unsure how to format your answer"
   ]
  },
  {
   "cell_type": "code",
   "execution_count": null,
   "metadata": {},
   "outputs": [],
   "source": [
    "#your working here\n",
    "\n",
    "#your answers to 1d\n",
    "results['Q1d:ans'] = 3"
   ]
  },
  {
   "cell_type": "markdown",
   "metadata": {},
   "source": [
    "# Q2a\n",
    "\n",
    "Manually solve this equation for $X$.\n",
    "\n",
    "\\begin{align}\n",
    "(AX+BX)^T((CX+DX+E)^T)^{-1}&=I\\\\\n",
    "\\end{align}\n",
    "\n",
    "Which is the correct answer?\n",
    "\n",
    "1. $X = (A + B - C - D) E^T$\n",
    "2. $X = (A + B - C - D)^{-1} E^T$\n",
    "3. $X = (A + B + C^T + D)^{-1} E$\n",
    "4. $X = (A + B - C - D)^{-1} E$\n",
    "5. $X = (A - B^T - C - D)^{-1} E$\n",
    "\n",
    "Dictionary Keys = `Q2a:mcq`  \n",
    "Refer to the example question if you are unsure how to format your answer"
   ]
  },
  {
   "cell_type": "code",
   "execution_count": null,
   "metadata": {},
   "outputs": [],
   "source": [
    "#your answers to 2a\n",
    "results['Q2a:mcq'] = 4"
   ]
  },
  {
   "cell_type": "markdown",
   "metadata": {},
   "source": [
    "# Q2b\n",
    "$A$ is shown below (`Q2_A`). Let $B = 2A, C = D = E = A$. Calculate $X$ using your solved equation above.\n",
    "\n",
    "Dictionary Keys = `Q2b:x`  \n",
    "Refer to the example question if you are unsure how to format your answer"
   ]
  },
  {
   "cell_type": "code",
   "execution_count": null,
   "metadata": {
    "scrolled": true
   },
   "outputs": [],
   "source": [
    "Q2_A"
   ]
  },
  {
   "cell_type": "code",
   "execution_count": null,
   "metadata": {},
   "outputs": [],
   "source": [
    "#your working here\n",
    "B = 2 * Q2_A\n",
    "C = Q2_A\n",
    "D = Q2_A\n",
    "E = Q2_A\n",
    "\n",
    "X = la.inv(Q2_A + B - C - D) @ E\n",
    "print(X)\n",
    "\n",
    "# checking\n",
    "LHS = (Q2_A @ X + B @ X).T @ la.inv((C@X + D@X + E).T)\n",
    "RHS = np.eye(5)\n",
    "\n",
    "print(\"Check that the answer tallies:\", np.all(np.around(LHS, 6) == RHS))\n",
    "\n",
    "\n",
    "#your answers to 2b\n",
    "results['Q2b:x'] = X"
   ]
  },
  {
   "cell_type": "markdown",
   "metadata": {
    "colab_type": "text",
    "id": "Rtggss1cxwas"
   },
   "source": [
    "# SANITY CHECKS\n",
    "Run the code blocks below to ensure your answers are stored properly.\n",
    "1. double check your answer using the print command. (the functions should look like <function my_func at 0x00000>)\n",
    "2. Ensure the number of keys in your dictionary equals to 17\n",
    "3. Check that the dictionary keys are all accounted for"
   ]
  },
  {
   "cell_type": "code",
   "execution_count": null,
   "metadata": {
    "colab": {},
    "colab_type": "code",
    "executionInfo": {
     "elapsed": 1063,
     "status": "aborted",
     "timestamp": 1599487167171,
     "user": {
      "displayName": "Andrew",
      "photoUrl": "",
      "userId": "11550368507075028834"
     },
     "user_tz": -480
    },
    "id": "RCkumvd6x7LI"
   },
   "outputs": [],
   "source": [
    "#first check\n",
    "print(results)"
   ]
  },
  {
   "cell_type": "code",
   "execution_count": null,
   "metadata": {
    "colab": {},
    "colab_type": "code",
    "executionInfo": {
     "elapsed": 1062,
     "status": "aborted",
     "timestamp": 1599487167171,
     "user": {
      "displayName": "Andrew",
      "photoUrl": "",
      "userId": "11550368507075028834"
     },
     "user_tz": -480
    },
    "id": "rd8XJ9MzZPGp"
   },
   "outputs": [],
   "source": [
    "#second check\n",
    "len(results.keys()) \n"
   ]
  },
  {
   "cell_type": "code",
   "execution_count": null,
   "metadata": {
    "colab": {},
    "colab_type": "code",
    "executionInfo": {
     "elapsed": 1062,
     "status": "aborted",
     "timestamp": 1599487167172,
     "user": {
      "displayName": "Andrew",
      "photoUrl": "",
      "userId": "11550368507075028834"
     },
     "user_tz": -480
    },
    "id": "ROwoxNLDGwAf"
   },
   "outputs": [],
   "source": [
    "#third check\n",
    "keys = list(results.keys())\n",
    "keys.sort()\n",
    "keys == ['Q1a:answer', 'Q1a:mcq', 'Q1b:norm_error', 'Q1b:x', 'Q1c:norm_error', 'Q1c:predicted_romance_scores', 'Q1d:ans', 'Q2a:mcq', 'Q2b:x', 'exqn_a:ex_func', 'exqn_b:y', 'exqn_c:mcq', 'exqn_d:idxs', 'exqn_e:ans', 'matric_no', 'name', 'quiz_version']"
   ]
  },
  {
   "cell_type": "markdown",
   "metadata": {
    "colab_type": "text",
    "id": "517Gtl6wzhVW"
   },
   "source": [
    "# Change the pickle file path to whereever you want to save the file. The name of the file should be `{your_matric}_dict.dill`"
   ]
  },
  {
   "cell_type": "code",
   "execution_count": null,
   "metadata": {
    "colab": {},
    "colab_type": "code",
    "executionInfo": {
     "elapsed": 1056,
     "status": "aborted",
     "timestamp": 1599487167172,
     "user": {
      "displayName": "Andrew",
      "photoUrl": "",
      "userId": "11550368507075028834"
     },
     "user_tz": -480
    },
    "id": "tKp4UWlZzs-K"
   },
   "outputs": [],
   "source": [
    "import dill\n",
    "dill_file_path= 'matric_dict.dill'\n",
    "\n",
    "with open(dill_file_path,'wb') as f:\n",
    "  dill.dump(results, f)"
   ]
  },
  {
   "cell_type": "code",
   "execution_count": null,
   "metadata": {},
   "outputs": [],
   "source": []
  }
 ],
 "metadata": {
  "colab": {
   "collapsed_sections": [],
   "name": "Lab Quiz 6 Answer Template.ipynb",
   "provenance": []
  },
  "kernelspec": {
   "display_name": "Python 3",
   "language": "python",
   "name": "python3"
  },
  "language_info": {
   "codemirror_mode": {
    "name": "ipython",
    "version": 3
   },
   "file_extension": ".py",
   "mimetype": "text/x-python",
   "name": "python",
   "nbconvert_exporter": "python",
   "pygments_lexer": "ipython3",
   "version": "3.8.3"
  }
 },
 "nbformat": 4,
 "nbformat_minor": 4
}