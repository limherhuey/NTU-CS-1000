{
 "cells": [
  {
   "cell_type": "code",
   "execution_count": null,
   "metadata": {},
   "outputs": [],
   "source": [
    "import pandas as pd\n",
    "import dill\n",
    "import numpy as np\n",
    "import numpy.linalg as la"
   ]
  },
  {
   "cell_type": "code",
   "execution_count": null,
   "metadata": {},
   "outputs": [],
   "source": [
    "print(\"Pandas version: \")\n",
    "pd.__version__"
   ]
  },
  {
   "cell_type": "code",
   "execution_count": null,
   "metadata": {},
   "outputs": [],
   "source": [
    "print(\"Dill version: \")\n",
    "dill.__version__"
   ]
  },
  {
   "cell_type": "code",
   "execution_count": null,
   "metadata": {},
   "outputs": [],
   "source": [
    "#Q4A a\n",
    "\n",
    "A = np.array([[1,2],[3,-4], [5,6]])   # A IS FULL RANK\n",
    "b = np.array([[1],[1],[3]])\n",
    "\n",
    "pinvA = la.pinv(A)\n",
    "\n",
    "print(\"A:\\n\", A, sep=\"\")\n",
    "print(\"b:\\n\", b, sep=\"\")\n",
    "\n",
    "# print('\\nPseudo Inverse of A:\\n', pinvA, sep=\"\")\n",
    "# print('\\nProduct Pinv @ A=\\n', np.around(pinvA @ A), sep=\"\")\n",
    "# print('\\nProduct A @ Pinv=\\n', A @ pinvA, sep=\"\")\n",
    "\n",
    "# solution of x using pseudo inverse\n",
    "x1a = pinvA @ b\n",
    "print(\"\\nx solved using pinv:\\n\", x1a, sep=\"\")"
   ]
  },
  {
   "cell_type": "code",
   "execution_count": null,
   "metadata": {},
   "outputs": [],
   "source": [
    "#Q4A b\n",
    "\n",
    "# solution of x using normal equation\n",
    "x1b = la.inv(A.T @ A) @ A.T @ b\n",
    "print(\"x solved using normal eqn:\\n\", x1b, sep=\"\")"
   ]
  },
  {
   "cell_type": "code",
   "execution_count": null,
   "metadata": {},
   "outputs": [],
   "source": [
    "#Q4A c\n",
    "\n",
    "print(\"Yes, they are the same.\\nUsing pseudo inverse is also a way to find the least squares solution.\")"
   ]
  },
  {
   "cell_type": "code",
   "execution_count": null,
   "metadata": {},
   "outputs": [],
   "source": [
    "#Q4A d\n",
    "\n",
    "hat_b1a = A @ x1a # pseudo inverse\n",
    "hat_b1b = A @ x1b # normal equation\n",
    "\n",
    "print(\"b hat solved using pseudo inverse:\\n\", hat_b1a, sep=\"\")\n",
    "print(\"\\nb hat solved using normal equation\\n\", hat_b1b, sep=\"\")\n",
    "\n",
    "print(\"\\nTheir results are the same.\")"
   ]
  },
  {
   "cell_type": "code",
   "execution_count": null,
   "metadata": {},
   "outputs": [],
   "source": [
    "#Q4A e\n",
    "\n",
    "error1a = la.norm(b - hat_b1a)\n",
    "error1b = la.norm(b - hat_b1b)\n",
    "\n",
    "print(\"error using pseudo inverse:\", error1a)\n",
    "print(\"error using normal equation:\", error1b)\n",
    "\n",
    "if round(error1a, 6) == round(error1b, 6):\n",
    "    print(\"\\nSame error!\")\n",
    "else:\n",
    "    print(\"\\nDifferent error!\")"
   ]
  },
  {
   "cell_type": "code",
   "execution_count": null,
   "metadata": {},
   "outputs": [],
   "source": [
    "#Q4A f\n",
    "# different ways to show if b is in Col(A):\n",
    "\n",
    "# 1) show that rank of A = rank of [A | b]\n",
    "print(\"Show by rank:\")\n",
    "\n",
    "rankA = la.matrix_rank(A)\n",
    "Ab = np.hstack((A, b))\n",
    "rankAb = la.matrix_rank(Ab)\n",
    "\n",
    "print(\"   rank of A:    \", rankA, \"\\n   rank of [A b]:\", rankAb, end=\"\\n\\n   \")\n",
    "if rankA == rankAb:\n",
    "    print(\"Same ranks, hence b is in the column space of A.\")\n",
    "else:\n",
    "    print(\"Different ranks, hence b is not in the column space of A.\")\n",
    "\n",
    "    \n",
    "# 2) show that Ax - b = 0 vector, i.e. norm(Ax - b) = 0\n",
    "print(\"\\n\\nShow by Ax - b = 0:\")\n",
    "\n",
    "norm_v = round(la.norm(A@x1a - b), 6)\n",
    "\n",
    "print(\"   norm of vector Ax - b:\", norm_v, end=\"\\n\\n   \")\n",
    "if norm_v == 0:\n",
    "    print(\"Norm of Ax - b is 0, hence b is in the column space of A.\")\n",
    "else:\n",
    "    print(\"Norm of Ax - b is not 0, hence b is not in the column space of A.\")"
   ]
  },
  {
   "cell_type": "code",
   "execution_count": null,
   "metadata": {},
   "outputs": [],
   "source": [
    "#Q4A g\n",
    "\n",
    "# check if error vector z is orthogonal to A\n",
    "z = b - hat_b1b\n",
    "(rows, cols) = A.shape\n",
    "\n",
    "for j in range(cols):\n",
    "    u = A[:,j]\n",
    "    if np.round(np.dot(u, z), 3) != 0:\n",
    "        print(\"Error vector (found by normal eqn) is not orthogonal to col(A).\")\n",
    "        break\n",
    "print(\"Error vector (found by normal eqn) is orthogonal to Col(A).\")"
   ]
  },
  {
   "cell_type": "code",
   "execution_count": null,
   "metadata": {},
   "outputs": [],
   "source": [
    "#Q4A h\n",
    "\n",
    "print(\"Yes we can use the normal equation to solve for x in this example\",\\\n",
    "     \"since the columns of A are linearly independent and hence AtA is invertible.\\n\")\n",
    "print(\"We cannot use the normal equation to solve for the least squares\",\\\n",
    "     \"solution when AtA is not invertible.\")"
   ]
  },
  {
   "cell_type": "code",
   "execution_count": null,
   "metadata": {},
   "outputs": [],
   "source": [
    "#Q4A i\n",
    "\n",
    "# part a\n",
    "Q, R = la.qr(A)\n",
    "(rows, cols) = A.shape\n",
    "\n",
    "for j in range(cols):\n",
    "    Qj = Q[:,j:j+1]     # to slice and retain the COLUMN VECTOR FORM, use j:j+1 (means the same as j)\n",
    "    AQj = np.hstack((A, Qj))\n",
    "    if la.matrix_rank(AQj) != la.matrix_rank(A):\n",
    "        print(\"Q is not in Col(A) because rank of the augmented matrix of A and a column of Q does not equal rank of A.\")\n",
    "        break\n",
    "print(\"Q is in Col(A) proven because rank of each augmented matrix [A Qj] (where Qj is a column of Q for all j) equals the rank of A.\")\n",
    "\n",
    "# part b\n",
    "hat_xQ = la.pinv(Q) @ b\n",
    "z_xQ = b - Q @ hat_xQ \n",
    "error_xQ = round(la.norm(z_xQ), 6)\n",
    "\n",
    "print(\"\\nError in approximating b using Qx = b is\", error_xQ, \"which is\", end=\" \")\n",
    "if error_xQ == round(error1b, 6):\n",
    "    print(\"the same as in Q4e.\\nThis is because the column space of Q and A are the same, hence both projections of b are onto the same,\"\\\n",
    "          \"column space, thus have the same error.\")\n",
    "else:\n",
    "    print(\"different from Q4e.\")"
   ]
  },
  {
   "cell_type": "code",
   "execution_count": null,
   "metadata": {},
   "outputs": [],
   "source": [
    "#Q4A j\n",
    "\n",
    "N = 10\n",
    "sumErrors = 0\n",
    "(r, c) = x1b.shape\n",
    "x = np.zeros((r, c))\n",
    "\n",
    "for i in range(N):\n",
    "    dx = np.random.rand(r, c)\n",
    "    dx /= la.norm(dx)\n",
    "    x = x1b + x\n",
    "    sumErrors += la.norm(b - A @ x)\n",
    "    \n",
    "aveErrors = round(sumErrors / N, 6)\n",
    "\n",
    "print(\"The least squares solution gives an error of\", error_xQ,\\\n",
    "     \"while the\", N, \"randomly generated points have an average\",\\\n",
    "     \"error of\", aveErrors)\n"
   ]
  },
  {
   "cell_type": "code",
   "execution_count": null,
   "metadata": {},
   "outputs": [],
   "source": [
    "#Q4B a\n",
    "\n",
    "# assume all A, B, C, and X are invertible matrices\n",
    "\n",
    "# (AX - A)^-1 = X^-1 BC^-1\n",
    "\n",
    "# (AX - A)(AX - A)^-1 = (AX - A)(X^-1 BC^-1)\n",
    "# I = AX(X^-1 BC^-1) - A(X^-1 BC^-1)\n",
    "# I + AX^-1 BC^-1 = ABC^-1\n",
    "# A^-1 C + A^-1 A X^-1 BC^-1 C = A^-1 ABC^-1 C\n",
    "# A^-1 C + X^-1 B = B\n",
    "# A^-1 C B^-1 + X^-1 B B^-1 = BB^-1\n",
    "# X^-1 = I - A^-1 C B^-1\n",
    "# X X^-1 = X(I - A^-1 C B^-1)\n",
    "# I (I - A^-1 C B^-1)^-1 = X(I - A^-1 C B^-1)(I - A^-1 C B^-1)^-1\n",
    "# X = (I - A^-1 C B^-1)^-1"
   ]
  },
  {
   "cell_type": "code",
   "execution_count": null,
   "metadata": {},
   "outputs": [],
   "source": [
    "#Q4B b\n",
    "\n",
    "A = np.random.rand(3, 3)\n",
    "B = np.random.rand(3, 3)\n",
    "C = np.random.rand(3, 3)\n",
    "I = np.eye(3)\n",
    "\n",
    "X = la.inv(I - la.inv(A) @ C @ la.inv(B))\n",
    "print(\"X:\\n\", X, sep=\"\", end=\"\\n\\n\")\n",
    "\n",
    "LHS = np.around(la.inv(A @ X - A), 6)\n",
    "RHS = np.around(la.inv(X) @ B @ la.inv(C), 6)\n",
    "\n",
    "print(\"Check that LHS = RHS:\", np.all(LHS == RHS))"
   ]
  }
 ],
 "metadata": {
  "kernelspec": {
   "display_name": "Python 3",
   "language": "python",
   "name": "python3"
  },
  "language_info": {
   "codemirror_mode": {
    "name": "ipython",
    "version": 3
   },
   "file_extension": ".py",
   "mimetype": "text/x-python",
   "name": "python",
   "nbconvert_exporter": "python",
   "pygments_lexer": "ipython3",
   "version": "3.8.5"
  }
 },
 "nbformat": 4,
 "nbformat_minor": 4
}
